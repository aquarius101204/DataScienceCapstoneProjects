{
 "cells": [
  {
   "cell_type": "markdown",
   "metadata": {},
   "source": [
    "# Load libraries and data"
   ]
  },
  {
   "cell_type": "code",
   "execution_count": 1,
   "metadata": {},
   "outputs": [],
   "source": [
    "# load relevant libraries\n",
    "import pandas as pd\n",
    "import numpy as np\n",
    "import matplotlib.pyplot as plt\n",
    "import seaborn as sns\n",
    "from datetime import datetime"
   ]
  },
  {
   "cell_type": "code",
   "execution_count": 2,
   "metadata": {
    "scrolled": true
   },
   "outputs": [],
   "source": [
    "# load the data by reading the raw csv file\n",
    "# use parse_dates argument to read the date column in datetime format\n",
    "btc = pd.read_csv(\"./bitstampUSD_1-min_data_2012-01-01_to_2021-03-31.csv\", parse_dates=['Timestamp'], usecols=['Timestamp', 'Weighted_Price'])"
   ]
  },
  {
   "cell_type": "markdown",
   "metadata": {},
   "source": [
    "# Data Wrangling"
   ]
  },
  {
   "cell_type": "code",
   "execution_count": 3,
   "metadata": {},
   "outputs": [
    {
     "data": {
      "text/plain": [
       "(4857377, 2)"
      ]
     },
     "execution_count": 3,
     "metadata": {},
     "output_type": "execute_result"
    }
   ],
   "source": [
    "btc.shape"
   ]
  },
  {
   "cell_type": "code",
   "execution_count": 4,
   "metadata": {},
   "outputs": [
    {
     "data": {
      "text/plain": [
       "Timestamp          object\n",
       "Weighted_Price    float64\n",
       "dtype: object"
      ]
     },
     "execution_count": 4,
     "metadata": {},
     "output_type": "execute_result"
    }
   ],
   "source": [
    "# check data types\n",
    "btc.dtypes"
   ]
  },
  {
   "cell_type": "code",
   "execution_count": 5,
   "metadata": {
    "scrolled": true
   },
   "outputs": [
    {
     "data": {
      "text/html": [
       "<div>\n",
       "<style scoped>\n",
       "    .dataframe tbody tr th:only-of-type {\n",
       "        vertical-align: middle;\n",
       "    }\n",
       "\n",
       "    .dataframe tbody tr th {\n",
       "        vertical-align: top;\n",
       "    }\n",
       "\n",
       "    .dataframe thead th {\n",
       "        text-align: right;\n",
       "    }\n",
       "</style>\n",
       "<table border=\"1\" class=\"dataframe\">\n",
       "  <thead>\n",
       "    <tr style=\"text-align: right;\">\n",
       "      <th></th>\n",
       "      <th>Timestamp</th>\n",
       "      <th>Weighted_Price</th>\n",
       "    </tr>\n",
       "  </thead>\n",
       "  <tbody>\n",
       "    <tr>\n",
       "      <th>0</th>\n",
       "      <td>1325317920</td>\n",
       "      <td>4.39</td>\n",
       "    </tr>\n",
       "    <tr>\n",
       "      <th>1</th>\n",
       "      <td>1325317980</td>\n",
       "      <td>NaN</td>\n",
       "    </tr>\n",
       "    <tr>\n",
       "      <th>2</th>\n",
       "      <td>1325318040</td>\n",
       "      <td>NaN</td>\n",
       "    </tr>\n",
       "    <tr>\n",
       "      <th>3</th>\n",
       "      <td>1325318100</td>\n",
       "      <td>NaN</td>\n",
       "    </tr>\n",
       "    <tr>\n",
       "      <th>4</th>\n",
       "      <td>1325318160</td>\n",
       "      <td>NaN</td>\n",
       "    </tr>\n",
       "  </tbody>\n",
       "</table>\n",
       "</div>"
      ],
      "text/plain": [
       "    Timestamp  Weighted_Price\n",
       "0  1325317920            4.39\n",
       "1  1325317980             NaN\n",
       "2  1325318040             NaN\n",
       "3  1325318100             NaN\n",
       "4  1325318160             NaN"
      ]
     },
     "execution_count": 5,
     "metadata": {},
     "output_type": "execute_result"
    }
   ],
   "source": [
    "btc.head()"
   ]
  },
  {
   "cell_type": "markdown",
   "metadata": {},
   "source": [
    "## Check and drop null values"
   ]
  },
  {
   "cell_type": "code",
   "execution_count": 6,
   "metadata": {},
   "outputs": [
    {
     "data": {
      "text/plain": [
       "Timestamp         4857377\n",
       "Weighted_Price    3613769\n",
       "dtype: int64"
      ]
     },
     "execution_count": 6,
     "metadata": {},
     "output_type": "execute_result"
    }
   ],
   "source": [
    "# check how many rows have non-null values\n",
    "btc.notnull().sum()"
   ]
  },
  {
   "cell_type": "markdown",
   "metadata": {},
   "source": [
    "As there are over 1 million rows having null value, I'm going to drop them."
   ]
  },
  {
   "cell_type": "code",
   "execution_count": 7,
   "metadata": {},
   "outputs": [],
   "source": [
    "# drop null rows\n",
    "btc = btc.dropna()"
   ]
  },
  {
   "cell_type": "code",
   "execution_count": 8,
   "metadata": {},
   "outputs": [
    {
     "data": {
      "text/plain": [
       "False"
      ]
     },
     "execution_count": 8,
     "metadata": {},
     "output_type": "execute_result"
    }
   ],
   "source": [
    "# check if null values are all removed\n",
    "btc.isnull().values.any()"
   ]
  },
  {
   "cell_type": "code",
   "execution_count": 9,
   "metadata": {},
   "outputs": [
    {
     "data": {
      "text/plain": [
       "(3613769, 2)"
      ]
     },
     "execution_count": 9,
     "metadata": {},
     "output_type": "execute_result"
    }
   ],
   "source": [
    "btc.shape"
   ]
  },
  {
   "cell_type": "code",
   "execution_count": 10,
   "metadata": {
    "scrolled": true
   },
   "outputs": [
    {
     "data": {
      "text/html": [
       "<div>\n",
       "<style scoped>\n",
       "    .dataframe tbody tr th:only-of-type {\n",
       "        vertical-align: middle;\n",
       "    }\n",
       "\n",
       "    .dataframe tbody tr th {\n",
       "        vertical-align: top;\n",
       "    }\n",
       "\n",
       "    .dataframe thead th {\n",
       "        text-align: right;\n",
       "    }\n",
       "</style>\n",
       "<table border=\"1\" class=\"dataframe\">\n",
       "  <thead>\n",
       "    <tr style=\"text-align: right;\">\n",
       "      <th></th>\n",
       "      <th>Timestamp</th>\n",
       "      <th>Weighted_Price</th>\n",
       "    </tr>\n",
       "  </thead>\n",
       "  <tbody>\n",
       "    <tr>\n",
       "      <th>0</th>\n",
       "      <td>1325317920</td>\n",
       "      <td>4.390000</td>\n",
       "    </tr>\n",
       "    <tr>\n",
       "      <th>478</th>\n",
       "      <td>1325346600</td>\n",
       "      <td>4.390000</td>\n",
       "    </tr>\n",
       "    <tr>\n",
       "      <th>547</th>\n",
       "      <td>1325350740</td>\n",
       "      <td>4.526411</td>\n",
       "    </tr>\n",
       "    <tr>\n",
       "      <th>548</th>\n",
       "      <td>1325350800</td>\n",
       "      <td>4.580000</td>\n",
       "    </tr>\n",
       "    <tr>\n",
       "      <th>1224</th>\n",
       "      <td>1325391360</td>\n",
       "      <td>4.580000</td>\n",
       "    </tr>\n",
       "  </tbody>\n",
       "</table>\n",
       "</div>"
      ],
      "text/plain": [
       "       Timestamp  Weighted_Price\n",
       "0     1325317920        4.390000\n",
       "478   1325346600        4.390000\n",
       "547   1325350740        4.526411\n",
       "548   1325350800        4.580000\n",
       "1224  1325391360        4.580000"
      ]
     },
     "execution_count": 10,
     "metadata": {},
     "output_type": "execute_result"
    }
   ],
   "source": [
    "btc.head()"
   ]
  },
  {
   "cell_type": "markdown",
   "metadata": {},
   "source": [
    "## Reset index"
   ]
  },
  {
   "cell_type": "code",
   "execution_count": 11,
   "metadata": {},
   "outputs": [
    {
     "data": {
      "text/html": [
       "<div>\n",
       "<style scoped>\n",
       "    .dataframe tbody tr th:only-of-type {\n",
       "        vertical-align: middle;\n",
       "    }\n",
       "\n",
       "    .dataframe tbody tr th {\n",
       "        vertical-align: top;\n",
       "    }\n",
       "\n",
       "    .dataframe thead th {\n",
       "        text-align: right;\n",
       "    }\n",
       "</style>\n",
       "<table border=\"1\" class=\"dataframe\">\n",
       "  <thead>\n",
       "    <tr style=\"text-align: right;\">\n",
       "      <th></th>\n",
       "      <th>Timestamp</th>\n",
       "      <th>Weighted_Price</th>\n",
       "    </tr>\n",
       "  </thead>\n",
       "  <tbody>\n",
       "    <tr>\n",
       "      <th>0</th>\n",
       "      <td>1325317920</td>\n",
       "      <td>4.390000</td>\n",
       "    </tr>\n",
       "    <tr>\n",
       "      <th>1</th>\n",
       "      <td>1325346600</td>\n",
       "      <td>4.390000</td>\n",
       "    </tr>\n",
       "    <tr>\n",
       "      <th>2</th>\n",
       "      <td>1325350740</td>\n",
       "      <td>4.526411</td>\n",
       "    </tr>\n",
       "    <tr>\n",
       "      <th>3</th>\n",
       "      <td>1325350800</td>\n",
       "      <td>4.580000</td>\n",
       "    </tr>\n",
       "    <tr>\n",
       "      <th>4</th>\n",
       "      <td>1325391360</td>\n",
       "      <td>4.580000</td>\n",
       "    </tr>\n",
       "  </tbody>\n",
       "</table>\n",
       "</div>"
      ],
      "text/plain": [
       "    Timestamp  Weighted_Price\n",
       "0  1325317920        4.390000\n",
       "1  1325346600        4.390000\n",
       "2  1325350740        4.526411\n",
       "3  1325350800        4.580000\n",
       "4  1325391360        4.580000"
      ]
     },
     "execution_count": 11,
     "metadata": {},
     "output_type": "execute_result"
    }
   ],
   "source": [
    "btc.reset_index(drop=True, inplace=True)\n",
    "btc.head()"
   ]
  },
  {
   "cell_type": "markdown",
   "metadata": {},
   "source": [
    "# Explore the data"
   ]
  },
  {
   "cell_type": "markdown",
   "metadata": {},
   "source": [
    "## Transform"
   ]
  },
  {
   "cell_type": "markdown",
   "metadata": {},
   "source": [
    "The timestamps are in Unix time so I'm going to transform it to datetime"
   ]
  },
  {
   "cell_type": "code",
   "execution_count": 12,
   "metadata": {},
   "outputs": [
    {
     "data": {
      "text/plain": [
       "Timestamp         datetime64[ns]\n",
       "Weighted_Price           float64\n",
       "dtype: object"
      ]
     },
     "execution_count": 12,
     "metadata": {},
     "output_type": "execute_result"
    }
   ],
   "source": [
    "btc['Timestamp'] = pd.to_datetime(btc['Timestamp'], unit='s')\n",
    "btc.dtypes"
   ]
  },
  {
   "cell_type": "markdown",
   "metadata": {},
   "source": [
    "## Downsample to daily data"
   ]
  },
  {
   "cell_type": "code",
   "execution_count": 13,
   "metadata": {},
   "outputs": [
    {
     "data": {
      "text/html": [
       "<div>\n",
       "<style scoped>\n",
       "    .dataframe tbody tr th:only-of-type {\n",
       "        vertical-align: middle;\n",
       "    }\n",
       "\n",
       "    .dataframe tbody tr th {\n",
       "        vertical-align: top;\n",
       "    }\n",
       "\n",
       "    .dataframe thead th {\n",
       "        text-align: right;\n",
       "    }\n",
       "</style>\n",
       "<table border=\"1\" class=\"dataframe\">\n",
       "  <thead>\n",
       "    <tr style=\"text-align: right;\">\n",
       "      <th></th>\n",
       "      <th>Weighted_Price</th>\n",
       "    </tr>\n",
       "    <tr>\n",
       "      <th>Timestamp</th>\n",
       "      <th></th>\n",
       "    </tr>\n",
       "  </thead>\n",
       "  <tbody>\n",
       "    <tr>\n",
       "      <th>2011-12-31</th>\n",
       "      <td>4.471603</td>\n",
       "    </tr>\n",
       "    <tr>\n",
       "      <th>2012-01-01</th>\n",
       "      <td>4.806667</td>\n",
       "    </tr>\n",
       "    <tr>\n",
       "      <th>2012-01-02</th>\n",
       "      <td>5.000000</td>\n",
       "    </tr>\n",
       "    <tr>\n",
       "      <th>2012-01-03</th>\n",
       "      <td>5.252500</td>\n",
       "    </tr>\n",
       "    <tr>\n",
       "      <th>2012-01-04</th>\n",
       "      <td>5.208159</td>\n",
       "    </tr>\n",
       "  </tbody>\n",
       "</table>\n",
       "</div>"
      ],
      "text/plain": [
       "            Weighted_Price\n",
       "Timestamp                 \n",
       "2011-12-31        4.471603\n",
       "2012-01-01        4.806667\n",
       "2012-01-02        5.000000\n",
       "2012-01-03        5.252500\n",
       "2012-01-04        5.208159"
      ]
     },
     "execution_count": 13,
     "metadata": {},
     "output_type": "execute_result"
    }
   ],
   "source": [
    "btc.index = btc['Timestamp']\n",
    "btc_daily = btc.resample('D').mean()\n",
    "btc_daily.head()"
   ]
  },
  {
   "cell_type": "code",
   "execution_count": 14,
   "metadata": {},
   "outputs": [],
   "source": [
    "btc_daily = btc_daily.dropna()"
   ]
  },
  {
   "cell_type": "code",
   "execution_count": 15,
   "metadata": {
    "scrolled": false
   },
   "outputs": [
    {
     "data": {
      "text/plain": [
       "False"
      ]
     },
     "execution_count": 15,
     "metadata": {},
     "output_type": "execute_result"
    }
   ],
   "source": [
    "btc_daily.isnull().values.any()"
   ]
  },
  {
   "cell_type": "markdown",
   "metadata": {},
   "source": [
    "## Plot"
   ]
  },
  {
   "cell_type": "code",
   "execution_count": 16,
   "metadata": {
    "scrolled": false
   },
   "outputs": [
    {
     "data": {
      "text/plain": [
       "<matplotlib.axes._subplots.AxesSubplot at 0x7f8710709910>"
      ]
     },
     "execution_count": 16,
     "metadata": {},
     "output_type": "execute_result"
    },
    {
     "data": {
      "image/png": "[encoded data removed]",
      "text/plain": [
       "<Figure size 432x288 with 1 Axes>"
      ]
     },
     "metadata": {
      "needs_background": "light"
     },
     "output_type": "display_data"
    }
   ],
   "source": [
    "btc_daily.plot()"
   ]
  },
  {
   "cell_type": "markdown",
   "metadata": {},
   "source": [
    "## Check for stationarity"
   ]
  },
  {
   "cell_type": "markdown",
   "metadata": {},
   "source": [
    "### 1. Using seasonal_decompse"
   ]
  },
  {
   "cell_type": "code",
   "execution_count": 17,
   "metadata": {},
   "outputs": [],
   "source": [
    "import statsmodels.api as sm"
   ]
  },
  {
   "cell_type": "code",
   "execution_count": 18,
   "metadata": {
    "scrolled": false
   },
   "outputs": [
    {
     "data": {
      "image/png": "[encoded data removed]",
      "text/plain": [
       "<Figure size 720x576 with 4 Axes>"
      ]
     },
     "metadata": {
      "needs_background": "light"
     },
     "output_type": "display_data"
    }
   ],
   "source": [
    "# Seasonal Decomposition\n",
    "# observed = trend + seasonal + resid\n",
    "# period(=freq): use to check seasonality\n",
    "\n",
    "decomposition = sm.tsa.seasonal_decompose(btc_daily, model='additive', period=12)\n",
    "fig = decomposition.plot()\n",
    "fig.set_size_inches(10,8)\n",
    "plt.show()"
   ]
  },
  {
   "cell_type": "markdown",
   "metadata": {},
   "source": [
    "Does data have:  \n",
    "- Trend? No fixed trend  \n",
    "- Seasonality? None \n",
    "- Residual? No fixed residual"
   ]
  },
  {
   "cell_type": "markdown",
   "metadata": {},
   "source": [
    "### 2. Using the ACF and PACF"
   ]
  },
  {
   "cell_type": "code",
   "execution_count": 19,
   "metadata": {
    "scrolled": true
   },
   "outputs": [
    {
     "data": {
      "image/png": "[encoded data removed]",
      "text/plain": [
       "<Figure size 720x360 with 2 Axes>"
      ]
     },
     "metadata": {
      "needs_background": "light"
     },
     "output_type": "display_data"
    }
   ],
   "source": [
    "# Plot acf and pacf\n",
    "from statsmodels.graphics.tsaplots import plot_acf, plot_pacf\n",
    "fig, ax = plt.subplots(1,2, figsize=(10,5))\n",
    "fig.suptitle('Weighted_Price')\n",
    "sm.graphics.tsa.plot_acf(btc_daily.squeeze(), lags=50, ax=ax[0])\n",
    "sm.graphics.tsa.plot_pacf(btc_daily.squeeze(), lags=50, ax=ax[1]);"
   ]
  },
  {
   "cell_type": "markdown",
   "metadata": {},
   "source": [
    "The ACF tails off slowly (while PACF cuts off after lag 1) so the data is non-stationary."
   ]
  },
  {
   "cell_type": "markdown",
   "metadata": {},
   "source": [
    "### 3. Using the augment Dicky-Fuller"
   ]
  },
  {
   "cell_type": "code",
   "execution_count": 20,
   "metadata": {},
   "outputs": [],
   "source": [
    "from statsmodels.tsa.stattools import adfuller"
   ]
  },
  {
   "cell_type": "code",
   "execution_count": 21,
   "metadata": {
    "scrolled": true
   },
   "outputs": [
    {
     "name": "stdout",
     "output_type": "stream",
     "text": [
      "ADF Statistic: 6.185633110386281\n",
      "p-value: 1.0\n",
      "critical values: {'1%': -3.4323058648629248, '5%': -2.862404186780598, '10%': -2.5672300237626606}\n"
     ]
    }
   ],
   "source": [
    "# Run the ADF test and print the test statistic and the p-value\n",
    "result = adfuller(btc_daily['Weighted_Price'])\n",
    "print('ADF Statistic:', result[0])\n",
    "print('p-value:', result[1])\n",
    "print('critical values:', result[4])"
   ]
  },
  {
   "cell_type": "markdown",
   "metadata": {},
   "source": [
    "Since the ADF statistics is higher than the T-values, 6.18 > -3.43, -2.86, -2.56, null hypothesis cannot be rejected.  \n",
    "Also, p-value of 1.0 > 0.05 (95% confidence interval), null hypothesis cannot be rejected.  \n",
    "Hence, the data is non-stationary."
   ]
  },
  {
   "cell_type": "markdown",
   "metadata": {},
   "source": [
    "## Taking the difference"
   ]
  },
  {
   "cell_type": "markdown",
   "metadata": {},
   "source": [
    "In order to make the data stationary, I will take the difference on the data."
   ]
  },
  {
   "cell_type": "markdown",
   "metadata": {},
   "source": [
    "##### 1st order differencing"
   ]
  },
  {
   "cell_type": "code",
   "execution_count": 22,
   "metadata": {
    "scrolled": false
   },
   "outputs": [
    {
     "data": {
      "image/png": "[encoded data removed]",
      "text/plain": [
       "<Figure size 720x864 with 3 Axes>"
      ]
     },
     "metadata": {
      "needs_background": "light"
     },
     "output_type": "display_data"
    }
   ],
   "source": [
    "btc_daily_diff_1 = btc_daily.diff(periods=1).dropna()['Weighted_Price']\n",
    "\n",
    "fig, (ax1, ax2, ax3) = plt.subplots(3,1, figsize=(10,12))\n",
    "btc_daily_diff_1.plot(ax=ax1)\n",
    "plot_acf(btc_daily_diff_1, ax=ax2)\n",
    "plot_pacf(btc_daily_diff_1, ax=ax3)\n",
    "plt.show()"
   ]
  },
  {
   "cell_type": "code",
   "execution_count": 23,
   "metadata": {
    "scrolled": false
   },
   "outputs": [
    {
     "name": "stdout",
     "output_type": "stream",
     "text": [
      "ADF Statistic: -9.08653810290712\n",
      "p-value: 3.926412261826797e-15\n",
      "critical values: {'1%': -3.4323058648629248, '5%': -2.862404186780598, '10%': -2.5672300237626606}\n"
     ]
    }
   ],
   "source": [
    "# Run the ADF test and print the test statistic and the p-value\n",
    "result = adfuller(btc_daily_diff_1)\n",
    "print('ADF Statistic:', result[0])\n",
    "print('p-value:', result[1])\n",
    "print('critical values:', result[4])"
   ]
  },
  {
   "cell_type": "markdown",
   "metadata": {},
   "source": [
    "Since the ADF statistics is lower than the T-values, -9.0865 < -3.43, -2.86, -2.56, null hypothesis can be rejected.  \n",
    "As well, the p-value of 3.92e-15 < 0.05 (95% confidence interval), null hypothesis can be rejected."
   ]
  },
  {
   "cell_type": "markdown",
   "metadata": {},
   "source": [
    "##### 2nd order differencing"
   ]
  },
  {
   "cell_type": "code",
   "execution_count": 24,
   "metadata": {},
   "outputs": [
    {
     "data": {
      "image/png": "[encoded data removed]",
      "text/plain": [
       "<Figure size 720x864 with 3 Axes>"
      ]
     },
     "metadata": {
      "needs_background": "light"
     },
     "output_type": "display_data"
    }
   ],
   "source": [
    "btc_daily_diff_2 = btc_daily.diff(periods=2).dropna()['Weighted_Price']\n",
    "\n",
    "fig, (ax1, ax2, ax3) = plt.subplots(3,1, figsize=(10,12))\n",
    "btc_daily_diff_2.plot(ax=ax1)\n",
    "plot_acf(btc_daily_diff_2, ax=ax2)\n",
    "plot_pacf(btc_daily_diff_2, ax=ax3)\n",
    "plt.show()"
   ]
  },
  {
   "cell_type": "code",
   "execution_count": 25,
   "metadata": {
    "scrolled": false
   },
   "outputs": [
    {
     "name": "stdout",
     "output_type": "stream",
     "text": [
      "ADF Statistic: -9.29166701035828\n",
      "p-value: 1.175262057693119e-15\n",
      "critical values: {'1%': -3.43230703553836, '5%': -2.8624047038663196, '10%': -2.5672302990466394}\n"
     ]
    }
   ],
   "source": [
    "# Run the ADF test and print the test statistic and the p-value\n",
    "result = adfuller(btc_daily_diff_2)\n",
    "print('ADF Statistic:', result[0])\n",
    "print('p-value:', result[1])\n",
    "print('critical values:', result[4])"
   ]
  },
  {
   "cell_type": "markdown",
   "metadata": {},
   "source": [
    "It seems taking the 1st order differencing would be enough.  "
   ]
  },
  {
   "cell_type": "markdown",
   "metadata": {},
   "source": [
    "### Split train-test data"
   ]
  },
  {
   "cell_type": "markdown",
   "metadata": {},
   "source": [
    "Make the test data with the last one month data"
   ]
  },
  {
   "cell_type": "code",
   "execution_count": 114,
   "metadata": {},
   "outputs": [],
   "source": [
    "# train_test_split\n",
    "from sklearn.model_selection import train_test_split\n",
    "#train, test = train_test_split(btc_daily, test_size=(btc_daily.index > '2021-02-28').sum(), shuffle=False, random_state=42)\n",
    "train, test = train_test_split(btc_daily, test_size=0.3, shuffle=False, random_state=42)\n"
   ]
  },
  {
   "cell_type": "markdown",
   "metadata": {},
   "source": [
    "# Modeling - ARIMA"
   ]
  },
  {
   "cell_type": "markdown",
   "metadata": {},
   "source": [
    "## Fit to the train data"
   ]
  },
  {
   "cell_type": "code",
   "execution_count": 115,
   "metadata": {
    "scrolled": false
   },
   "outputs": [
    {
     "name": "stdout",
     "output_type": "stream",
     "text": [
      "ADF Statistic: -1.682086355609681\n",
      "p-value: 0.44036495378842155\n",
      "critical values: {'1%': -3.4331536417276274, '5%': -2.8627785955546137, '10%': -2.5674293588855925}\n"
     ]
    }
   ],
   "source": [
    "result = adfuller(train)\n",
    "print('ADF Statistic:', result[0])\n",
    "print('p-value:', result[1])\n",
    "print('critical values:', result[4])"
   ]
  },
  {
   "cell_type": "markdown",
   "metadata": {},
   "source": [
    "As p-value 0.44 > 0.05, take the differencing"
   ]
  },
  {
   "cell_type": "code",
   "execution_count": 116,
   "metadata": {
    "scrolled": false
   },
   "outputs": [
    {
     "data": {
      "image/png": "[encoded data removed]",
      "text/plain": [
       "<Figure size 720x864 with 3 Axes>"
      ]
     },
     "metadata": {
      "needs_background": "light"
     },
     "output_type": "display_data"
    }
   ],
   "source": [
    "train_diff = train.diff(periods=1).dropna()['Weighted_Price']\n",
    "\n",
    "fig, (ax1, ax2, ax3) = plt.subplots(3,1, figsize=(10,12))\n",
    "train_diff.plot(ax=ax1)\n",
    "plot_acf(train_diff, ax=ax2)\n",
    "plot_pacf(train_diff, ax=ax3)\n",
    "plt.show()"
   ]
  },
  {
   "cell_type": "code",
   "execution_count": 117,
   "metadata": {
    "scrolled": true
   },
   "outputs": [
    {
     "name": "stdout",
     "output_type": "stream",
     "text": [
      "ADF Statistic: -8.779512764228302\n",
      "p-value: 2.3978090958917432e-14\n",
      "critical values: {'1%': -3.4331548442701627, '5%': -2.8627791265652154, '10%': -2.56742964160809}\n"
     ]
    }
   ],
   "source": [
    "result = adfuller(train_diff)\n",
    "print('ADF Statistic:', result[0])\n",
    "print('p-value:', result[1])\n",
    "print('critical values:', result[4])"
   ]
  },
  {
   "cell_type": "markdown",
   "metadata": {},
   "source": [
    "Find the best combination of (p, d, q)"
   ]
  },
  {
   "cell_type": "code",
   "execution_count": 118,
   "metadata": {},
   "outputs": [],
   "source": [
    "from statsmodels.tsa.arima_model import ARIMA\n",
    "import itertools"
   ]
  },
  {
   "cell_type": "code",
   "execution_count": 129,
   "metadata": {
    "scrolled": false
   },
   "outputs": [
    {
     "name": "stdout",
     "output_type": "stream",
     "text": [
      "Examples of parameter combinations for seasonal ARIMA\n",
      "ARIMA : (0, 1, 0) >> AIC : 32203.05\n",
      "ARIMA : (0, 1, 1) >> AIC : 31063.98\n",
      "ARIMA : (0, 1, 2) >> AIC : 30991.62\n",
      "ARIMA : (1, 1, 0) >> AIC : 31732.57\n",
      "ARIMA : (1, 1, 1) >> AIC : 30982.68\n",
      "ARIMA : (1, 1, 2) >> AIC : 30983.14\n",
      "ARIMA : (2, 1, 0) >> AIC : 31607.99\n",
      "ARIMA : (2, 1, 1) >> AIC : 30982.12\n",
      "ARIMA : (2, 1, 2) >> AIC : 30943.96\n"
     ]
    }
   ],
   "source": [
    "print(\"Examples of parameter combinations for seasonal ARIMA\")\n",
    "p=range(0,3)\n",
    "d=range(1,2)\n",
    "q=range(0,3)\n",
    "pdq = list(itertools.product(p,d,q)) \n",
    "\n",
    "aic = []\n",
    "for i in pdq:\n",
    "    model=ARIMA(train_diff.dropna().values, order=(i))\n",
    "    model_fit = model.fit(trend='c', full_output=True, disp=True)\n",
    "    print(f\"ARIMA : {i} >> AIC : {round(model_fit.aic, 2)}\")\n",
    "    aic.append(round(model_fit.aic, 2))"
   ]
  },
  {
   "cell_type": "code",
   "execution_count": 130,
   "metadata": {
    "scrolled": true
   },
   "outputs": [
    {
     "data": {
      "text/plain": [
       "[(2, 1, 2), 30943.96]"
      ]
     },
     "execution_count": 130,
     "metadata": {},
     "output_type": "execute_result"
    }
   ],
   "source": [
    "optimal = [pdq[np.argmin(aic)], min(aic)]\n",
    "optimal"
   ]
  },
  {
   "cell_type": "code",
   "execution_count": 131,
   "metadata": {
    "scrolled": false
   },
   "outputs": [
    {
     "data": {
      "text/html": [
       "<table class=\"simpletable\">\n",
       "<caption>ARIMA Model Results</caption>\n",
       "<tr>\n",
       "  <th>Dep. Variable:</th>        <td>D.y</td>       <th>  No. Observations:  </th>    <td>2361</td>   \n",
       "</tr>\n",
       "<tr>\n",
       "  <th>Model:</th>          <td>ARIMA(2, 1, 2)</td>  <th>  Log Likelihood     </th> <td>-15465.979</td>\n",
       "</tr>\n",
       "<tr>\n",
       "  <th>Method:</th>             <td>css-mle</td>     <th>  S.D. of innovations</th>   <td>169.033</td> \n",
       "</tr>\n",
       "<tr>\n",
       "  <th>Date:</th>          <td>Sun, 31 Oct 2021</td> <th>  AIC                </th>  <td>30943.958</td>\n",
       "</tr>\n",
       "<tr>\n",
       "  <th>Time:</th>              <td>21:49:17</td>     <th>  BIC                </th>  <td>30978.559</td>\n",
       "</tr>\n",
       "<tr>\n",
       "  <th>Sample:</th>                <td>1</td>        <th>  HQIC               </th>  <td>30956.556</td>\n",
       "</tr>\n",
       "<tr>\n",
       "  <th></th>                       <td> </td>        <th>                     </th>      <td> </td>    \n",
       "</tr>\n",
       "</table>\n",
       "<table class=\"simpletable\">\n",
       "<tr>\n",
       "      <td></td>         <th>coef</th>     <th>std err</th>      <th>z</th>      <th>P>|z|</th>  <th>[0.025</th>    <th>0.975]</th>  \n",
       "</tr>\n",
       "<tr>\n",
       "  <th>const</th>     <td>    0.0035</td> <td>    0.007</td> <td>    0.529</td> <td> 0.597</td> <td>   -0.009</td> <td>    0.016</td>\n",
       "</tr>\n",
       "<tr>\n",
       "  <th>ar.L1.D.y</th> <td>   -0.7133</td> <td>    0.033</td> <td>  -21.716</td> <td> 0.000</td> <td>   -0.778</td> <td>   -0.649</td>\n",
       "</tr>\n",
       "<tr>\n",
       "  <th>ar.L2.D.y</th> <td>    0.2249</td> <td>    0.020</td> <td>   11.124</td> <td> 0.000</td> <td>    0.185</td> <td>    0.265</td>\n",
       "</tr>\n",
       "<tr>\n",
       "  <th>ma.L1.D.y</th> <td>   -0.0951</td> <td>    0.028</td> <td>   -3.403</td> <td> 0.001</td> <td>   -0.150</td> <td>   -0.040</td>\n",
       "</tr>\n",
       "<tr>\n",
       "  <th>ma.L2.D.y</th> <td>   -0.9049</td> <td>    0.028</td> <td>  -32.387</td> <td> 0.000</td> <td>   -0.960</td> <td>   -0.850</td>\n",
       "</tr>\n",
       "</table>\n",
       "<table class=\"simpletable\">\n",
       "<caption>Roots</caption>\n",
       "<tr>\n",
       "    <td></td>   <th>            Real</th>  <th>         Imaginary</th> <th>         Modulus</th>  <th>        Frequency</th>\n",
       "</tr>\n",
       "<tr>\n",
       "  <th>AR.1</th> <td>          -1.0526</td> <td>          +0.0000j</td> <td>           1.0526</td> <td>           0.5000</td>\n",
       "</tr>\n",
       "<tr>\n",
       "  <th>AR.2</th> <td>           4.2239</td> <td>          +0.0000j</td> <td>           4.2239</td> <td>           0.0000</td>\n",
       "</tr>\n",
       "<tr>\n",
       "  <th>MA.1</th> <td>           1.0000</td> <td>          +0.0000j</td> <td>           1.0000</td> <td>           0.0000</td>\n",
       "</tr>\n",
       "<tr>\n",
       "  <th>MA.2</th> <td>          -1.1051</td> <td>          +0.0000j</td> <td>           1.1051</td> <td>           0.5000</td>\n",
       "</tr>\n",
       "</table>"
      ],
      "text/plain": [
       "<class 'statsmodels.iolib.summary.Summary'>\n",
       "\"\"\"\n",
       "                             ARIMA Model Results                              \n",
       "==============================================================================\n",
       "Dep. Variable:                    D.y   No. Observations:                 2361\n",
       "Model:                 ARIMA(2, 1, 2)   Log Likelihood              -15465.979\n",
       "Method:                       css-mle   S.D. of innovations            169.033\n",
       "Date:                Sun, 31 Oct 2021   AIC                          30943.958\n",
       "Time:                        21:49:17   BIC                          30978.559\n",
       "Sample:                             1   HQIC                         30956.556\n",
       "                                                                              \n",
       "==============================================================================\n",
       "                 coef    std err          z      P>|z|      [0.025      0.975]\n",
       "------------------------------------------------------------------------------\n",
       "const          0.0035      0.007      0.529      0.597      -0.009       0.016\n",
       "ar.L1.D.y     -0.7133      0.033    -21.716      0.000      -0.778      -0.649\n",
       "ar.L2.D.y      0.2249      0.020     11.124      0.000       0.185       0.265\n",
       "ma.L1.D.y     -0.0951      0.028     -3.403      0.001      -0.150      -0.040\n",
       "ma.L2.D.y     -0.9049      0.028    -32.387      0.000      -0.960      -0.850\n",
       "                                    Roots                                    \n",
       "=============================================================================\n",
       "                  Real          Imaginary           Modulus         Frequency\n",
       "-----------------------------------------------------------------------------\n",
       "AR.1           -1.0526           +0.0000j            1.0526            0.5000\n",
       "AR.2            4.2239           +0.0000j            4.2239            0.0000\n",
       "MA.1            1.0000           +0.0000j            1.0000            0.0000\n",
       "MA.2           -1.1051           +0.0000j            1.1051            0.5000\n",
       "-----------------------------------------------------------------------------\n",
       "\"\"\""
      ]
     },
     "execution_count": 131,
     "metadata": {},
     "output_type": "execute_result"
    }
   ],
   "source": [
    "model_diff = ARIMA(train_diff.values, order = optimal[0])\n",
    "model_diff_fit = model_diff.fit(trend='c', full_output=True, disp=True)\n",
    "model_diff_fit.summary()"
   ]
  },
  {
   "cell_type": "markdown",
   "metadata": {},
   "source": [
    "## Predict"
   ]
  },
  {
   "cell_type": "code",
   "execution_count": 132,
   "metadata": {},
   "outputs": [
    {
     "name": "stdout",
     "output_type": "stream",
     "text": [
      "(array([-55.49952517]), array([169.03312199]), array([[-386.79835647,  275.79930613]]))\n"
     ]
    }
   ],
   "source": [
    "fc = model_diff_fit.forecast(steps=1)\n",
    "print(fc)"
   ]
  },
  {
   "cell_type": "code",
   "execution_count": 133,
   "metadata": {
    "scrolled": true
   },
   "outputs": [
    {
     "name": "stdout",
     "output_type": "stream",
     "text": [
      "2018-06-23 00:00:00\n"
     ]
    }
   ],
   "source": [
    "start = test.index[0]\n",
    "print(start)"
   ]
  },
  {
   "cell_type": "code",
   "execution_count": 134,
   "metadata": {},
   "outputs": [
    {
     "data": {
      "image/png": "[encoded data removed]",
      "text/plain": [
       "<Figure size 432x288 with 1 Axes>"
      ]
     },
     "metadata": {
      "needs_background": "light"
     },
     "output_type": "display_data"
    }
   ],
   "source": [
    "model_diff_fit.plot_predict()\n",
    "plt.show()"
   ]
  },
  {
   "cell_type": "code",
   "execution_count": 135,
   "metadata": {
    "scrolled": true
   },
   "outputs": [
    {
     "name": "stdout",
     "output_type": "stream",
     "text": [
      "[-55.49952517 -34.99144976  22.7895646  ...  10.41056023  10.4140132\n",
      "  10.41746616]\n"
     ]
    }
   ],
   "source": [
    "# use model to forecast\n",
    "pred = model_diff_fit.forecast(steps=test.shape[0])\n",
    "pred_val = pred[0]\n",
    "pred_lw = pred[2][:,0]\n",
    "pred_up = pred[2][:,1]\n",
    "pred_idx = list(test.index)\n",
    "\n",
    "print(pred_val)"
   ]
  },
  {
   "cell_type": "code",
   "execution_count": 136,
   "metadata": {
    "scrolled": true
   },
   "outputs": [
    {
     "data": {
      "text/plain": [
       "-1.0730314639640883"
      ]
     },
     "execution_count": 136,
     "metadata": {},
     "output_type": "execute_result"
    }
   ],
   "source": [
    "from sklearn.metrics import r2_score\n",
    "r2 = r2_score(test['Weighted_Price'], pred_val)\n",
    "r2"
   ]
  },
  {
   "cell_type": "code",
   "execution_count": 137,
   "metadata": {
    "scrolled": false
   },
   "outputs": [
    {
     "data": {
      "text/plain": [
       "Text(0.5, 0.98, 'ARIMA (2, 1, 2) Prediction Results (r2 score : -1.07)')"
      ]
     },
     "execution_count": 137,
     "metadata": {},
     "output_type": "execute_result"
    },
    {
     "data": {
      "image/png": "[encoded data removed]",
      "text/plain": [
       "<Figure size 864x432 with 1 Axes>"
      ]
     },
     "metadata": {
      "needs_background": "light"
     },
     "output_type": "display_data"
    }
   ],
   "source": [
    "fig, ax = plt.subplots(figsize=(12,6))\n",
    "sns.lineplot(data=btc_daily, x=btc_daily.index, y='Weighted_Price', ax=ax)\n",
    "ax.vlines(start, 0, 60000, linestyle='--', color='r', label='Start of ForeCast')\n",
    "ax.plot(pred_idx, pred_val, color='orange', label='Prediction')\n",
    "plt.legend(loc='upper right')\n",
    "plt.suptitle(f\"ARIMA {optimal[0]} Prediction Results (r2 score : {round(r2,2)})\")"
   ]
  },
  {
   "cell_type": "markdown",
   "metadata": {},
   "source": [
    "Narrow down the date range to see more specifically"
   ]
  },
  {
   "cell_type": "code",
   "execution_count": 138,
   "metadata": {
    "scrolled": true
   },
   "outputs": [
    {
     "data": {
      "image/png": "[encoded data removed]",
      "text/plain": [
       "<Figure size 864x360 with 1 Axes>"
      ]
     },
     "metadata": {
      "needs_background": "light"
     },
     "output_type": "display_data"
    }
   ],
   "source": [
    "fc = pd.DataFrame(pred[0], index=test.index, columns=test.columns)\n",
    "\n",
    "plt.figure(figsize=(12,5))\n",
    "plt.plot(btc_daily.loc[datetime(2020,8,1):,:], label=\"Original\")\n",
    "plt.plot(test, label=\"Real price\")\n",
    "plt.plot(fc, label=\"Forecasted price\")\n",
    "plt.xlabel(\"Timestamp\")\n",
    "plt.ylabel(\"Bitcoin price\")\n",
    "plt.legend()\n",
    "plt.show()"
   ]
  },
  {
   "cell_type": "code",
   "execution_count": null,
   "metadata": {},
   "outputs": [],
   "source": []
  },
  {
   "cell_type": "code",
   "execution_count": null,
   "metadata": {},
   "outputs": [],
   "source": []
  },
  {
   "cell_type": "code",
   "execution_count": null,
   "metadata": {},
   "outputs": [],
   "source": []
  },
  {
   "cell_type": "code",
   "execution_count": null,
   "metadata": {},
   "outputs": [],
   "source": []
  },
  {
   "cell_type": "code",
   "execution_count": null,
   "metadata": {},
   "outputs": [],
   "source": []
  },
  {
   "cell_type": "code",
   "execution_count": null,
   "metadata": {},
   "outputs": [],
   "source": []
  },
  {
   "cell_type": "markdown",
   "metadata": {},
   "source": [
    "# Modeling - SARIMA"
   ]
  },
  {
   "cell_type": "markdown",
   "metadata": {},
   "source": [
    "## Fit"
   ]
  },
  {
   "cell_type": "code",
   "execution_count": 72,
   "metadata": {},
   "outputs": [],
   "source": [
    "from statsmodels.tsa.statespace.sarimax import SARIMAX"
   ]
  },
  {
   "cell_type": "code",
   "execution_count": 75,
   "metadata": {},
   "outputs": [
    {
     "name": "stdout",
     "output_type": "stream",
     "text": [
      "Examples of parameter combinataions for Seasonal ARIMA\n",
      "SARIMA : (0, 1, 0)(0, 1, 0, 12) >> AIC 48397.47\n",
      "SARIMA : (0, 1, 0)(0, 1, 1, 12) >> AIC 48397.47\n",
      "SARIMA : (0, 1, 0)(0, 1, 2, 12) >> AIC 48397.47\n",
      "SARIMA : (0, 1, 0)(1, 1, 0, 12) >> AIC 48397.47\n",
      "SARIMA : (0, 1, 0)(1, 1, 1, 12) >> AIC 48397.47\n",
      "SARIMA : (0, 1, 0)(1, 1, 2, 12) >> AIC 48397.47\n",
      "SARIMA : (0, 1, 0)(2, 1, 0, 12) >> AIC 48397.47\n",
      "SARIMA : (0, 1, 0)(2, 1, 1, 12) >> AIC 48397.47\n",
      "SARIMA : (0, 1, 0)(2, 1, 2, 12) >> AIC 48397.47\n",
      "SARIMA : (0, 1, 1)(0, 1, 0, 12) >> AIC 48275.66\n",
      "SARIMA : (0, 1, 1)(0, 1, 1, 12) >> AIC 48275.66\n",
      "SARIMA : (0, 1, 1)(0, 1, 2, 12) >> AIC 48275.66\n",
      "SARIMA : (0, 1, 1)(1, 1, 0, 12) >> AIC 48275.66\n",
      "SARIMA : (0, 1, 1)(1, 1, 1, 12) >> AIC 48275.66\n",
      "SARIMA : (0, 1, 1)(1, 1, 2, 12) >> AIC 48275.66\n",
      "SARIMA : (0, 1, 1)(2, 1, 0, 12) >> AIC 48275.66\n",
      "SARIMA : (0, 1, 1)(2, 1, 1, 12) >> AIC 48275.66\n",
      "SARIMA : (0, 1, 1)(2, 1, 2, 12) >> AIC 48275.66\n",
      "SARIMA : (0, 1, 2)(0, 1, 0, 12) >> AIC 48277.66\n",
      "SARIMA : (0, 1, 2)(0, 1, 1, 12) >> AIC 48277.66\n",
      "SARIMA : (0, 1, 2)(0, 1, 2, 12) >> AIC 48277.66\n",
      "SARIMA : (0, 1, 2)(1, 1, 0, 12) >> AIC 48277.66\n",
      "SARIMA : (0, 1, 2)(1, 1, 1, 12) >> AIC 48277.66\n",
      "SARIMA : (0, 1, 2)(1, 1, 2, 12) >> AIC 48277.66\n",
      "SARIMA : (0, 1, 2)(2, 1, 0, 12) >> AIC 48277.66\n",
      "SARIMA : (0, 1, 2)(2, 1, 1, 12) >> AIC 48277.66\n",
      "SARIMA : (0, 1, 2)(2, 1, 2, 12) >> AIC 48277.66\n",
      "SARIMA : (1, 1, 0)(0, 1, 0, 12) >> AIC 48281.5\n",
      "SARIMA : (1, 1, 0)(0, 1, 1, 12) >> AIC 48281.5\n",
      "SARIMA : (1, 1, 0)(0, 1, 2, 12) >> AIC 48281.5\n",
      "SARIMA : (1, 1, 0)(1, 1, 0, 12) >> AIC 48281.5\n",
      "SARIMA : (1, 1, 0)(1, 1, 1, 12) >> AIC 48281.5\n",
      "SARIMA : (1, 1, 0)(1, 1, 2, 12) >> AIC 48281.5\n",
      "SARIMA : (1, 1, 0)(2, 1, 0, 12) >> AIC 48281.5\n",
      "SARIMA : (1, 1, 0)(2, 1, 1, 12) >> AIC 48281.5\n",
      "SARIMA : (1, 1, 0)(2, 1, 2, 12) >> AIC 48281.5\n",
      "SARIMA : (1, 1, 1)(0, 1, 0, 12) >> AIC 48277.64\n",
      "SARIMA : (1, 1, 1)(0, 1, 1, 12) >> AIC 48277.64\n",
      "SARIMA : (1, 1, 1)(0, 1, 2, 12) >> AIC 48277.64\n",
      "SARIMA : (1, 1, 1)(1, 1, 0, 12) >> AIC 48277.64\n",
      "SARIMA : (1, 1, 1)(1, 1, 1, 12) >> AIC 48277.64\n",
      "SARIMA : (1, 1, 1)(1, 1, 2, 12) >> AIC 48277.64\n",
      "SARIMA : (1, 1, 1)(2, 1, 0, 12) >> AIC 48277.64\n",
      "SARIMA : (1, 1, 1)(2, 1, 1, 12) >> AIC 48277.64\n",
      "SARIMA : (1, 1, 1)(2, 1, 2, 12) >> AIC 48277.64\n",
      "SARIMA : (1, 1, 2)(0, 1, 0, 12) >> AIC 48279.68\n",
      "SARIMA : (1, 1, 2)(0, 1, 1, 12) >> AIC 48279.68\n",
      "SARIMA : (1, 1, 2)(0, 1, 2, 12) >> AIC 48279.68\n",
      "SARIMA : (1, 1, 2)(1, 1, 0, 12) >> AIC 48279.68\n",
      "SARIMA : (1, 1, 2)(1, 1, 1, 12) >> AIC 48279.68\n",
      "SARIMA : (1, 1, 2)(1, 1, 2, 12) >> AIC 48279.68\n",
      "SARIMA : (1, 1, 2)(2, 1, 0, 12) >> AIC 48279.68\n",
      "SARIMA : (1, 1, 2)(2, 1, 1, 12) >> AIC 48279.68\n",
      "SARIMA : (1, 1, 2)(2, 1, 2, 12) >> AIC 48279.68\n",
      "SARIMA : (2, 1, 0)(0, 1, 0, 12) >> AIC 48277.54\n",
      "SARIMA : (2, 1, 0)(0, 1, 1, 12) >> AIC 48277.54\n",
      "SARIMA : (2, 1, 0)(0, 1, 2, 12) >> AIC 48277.54\n",
      "SARIMA : (2, 1, 0)(1, 1, 0, 12) >> AIC 48277.54\n",
      "SARIMA : (2, 1, 0)(1, 1, 1, 12) >> AIC 48277.54\n",
      "SARIMA : (2, 1, 0)(1, 1, 2, 12) >> AIC 48277.54\n",
      "SARIMA : (2, 1, 0)(2, 1, 0, 12) >> AIC 48277.54\n",
      "SARIMA : (2, 1, 0)(2, 1, 1, 12) >> AIC 48277.54\n",
      "SARIMA : (2, 1, 0)(2, 1, 2, 12) >> AIC 48277.54\n",
      "SARIMA : (2, 1, 1)(0, 1, 0, 12) >> AIC 48279.43\n",
      "SARIMA : (2, 1, 1)(0, 1, 1, 12) >> AIC 48279.43\n",
      "SARIMA : (2, 1, 1)(0, 1, 2, 12) >> AIC 48279.43\n",
      "SARIMA : (2, 1, 1)(1, 1, 0, 12) >> AIC 48279.43\n",
      "SARIMA : (2, 1, 1)(1, 1, 1, 12) >> AIC 48279.43\n",
      "SARIMA : (2, 1, 1)(1, 1, 2, 12) >> AIC 48279.43\n",
      "SARIMA : (2, 1, 1)(2, 1, 0, 12) >> AIC 48279.43\n",
      "SARIMA : (2, 1, 1)(2, 1, 1, 12) >> AIC 48279.43\n",
      "SARIMA : (2, 1, 1)(2, 1, 2, 12) >> AIC 48279.43\n",
      "SARIMA : (2, 1, 2)(0, 1, 0, 12) >> AIC 48281.04\n",
      "SARIMA : (2, 1, 2)(0, 1, 1, 12) >> AIC 48281.04\n",
      "SARIMA : (2, 1, 2)(0, 1, 2, 12) >> AIC 48281.04\n",
      "SARIMA : (2, 1, 2)(1, 1, 0, 12) >> AIC 48281.04\n",
      "SARIMA : (2, 1, 2)(1, 1, 1, 12) >> AIC 48281.04\n",
      "SARIMA : (2, 1, 2)(1, 1, 2, 12) >> AIC 48281.04\n",
      "SARIMA : (2, 1, 2)(2, 1, 0, 12) >> AIC 48281.04\n",
      "SARIMA : (2, 1, 2)(2, 1, 1, 12) >> AIC 48281.04\n",
      "SARIMA : (2, 1, 2)(2, 1, 2, 12) >> AIC 48281.04\n"
     ]
    }
   ],
   "source": [
    "# SARIMA\n",
    "# parameter search\n",
    "print(\"Examples of parameter combinataions for Seasonal ARIMA\")\n",
    "p = range(0,3)\n",
    "d = range(1,2)\n",
    "q = range(0,3)\n",
    "pdq = list(itertools.product(p,d,q))\n",
    "seasonal_pdq = [(x[0], x[1], x[2], 12) for x in list(itertools.product(p,d,q))]\n",
    "\n",
    "aic = []\n",
    "params = []\n",
    "\n",
    "for i in pdq:\n",
    "    for j in seasonal_pdq:\n",
    "        try:\n",
    "            model = SARIMAX(train.dropna().values, order = (i), seasoanl_order = (j))\n",
    "            model_fit = model.fit()\n",
    "            print(f\"SARIMA : {i}{j} >> AIC {round(model_fit.aic,2)}\")\n",
    "            aic.append(round(model_fit.aic,2))\n",
    "            params.append((i,j))\n",
    "        except:\n",
    "            pass"
   ]
  },
  {
   "cell_type": "code",
   "execution_count": 85,
   "metadata": {},
   "outputs": [
    {
     "data": {
      "text/plain": [
       "[((0, 1, 0), (0, 1, 1, 12)), 48273.89]"
      ]
     },
     "execution_count": 85,
     "metadata": {},
     "output_type": "execute_result"
    }
   ],
   "source": [
    "optimal = [params[np.argmin(aic)], min(aic)]\n",
    "optimal"
   ]
  },
  {
   "cell_type": "code",
   "execution_count": 86,
   "metadata": {},
   "outputs": [
    {
     "data": {
      "text/html": [
       "<table class=\"simpletable\">\n",
       "<caption>SARIMAX Results</caption>\n",
       "<tr>\n",
       "  <th>Dep. Variable:</th>                   <td>y</td>                <th>  No. Observations:  </th>    <td>3344</td>   \n",
       "</tr>\n",
       "<tr>\n",
       "  <th>Model:</th>           <td>SARIMAX(0, 1, 0)x(0, 1, [1], 12)</td> <th>  Log Likelihood     </th> <td>-24938.174</td>\n",
       "</tr>\n",
       "<tr>\n",
       "  <th>Date:</th>                    <td>Sun, 31 Oct 2021</td>         <th>  AIC                </th>  <td>49880.349</td>\n",
       "</tr>\n",
       "<tr>\n",
       "  <th>Time:</th>                        <td>21:25:38</td>             <th>  BIC                </th>  <td>49892.571</td>\n",
       "</tr>\n",
       "<tr>\n",
       "  <th>Sample:</th>                          <td>0</td>                <th>  HQIC               </th>  <td>49884.722</td>\n",
       "</tr>\n",
       "<tr>\n",
       "  <th></th>                              <td> - 3344</td>             <th>                     </th>      <td> </td>    \n",
       "</tr>\n",
       "<tr>\n",
       "  <th>Covariance Type:</th>                <td>opg</td>               <th>                     </th>      <td> </td>    \n",
       "</tr>\n",
       "</table>\n",
       "<table class=\"simpletable\">\n",
       "<tr>\n",
       "      <td></td>        <th>coef</th>     <th>std err</th>      <th>z</th>      <th>P>|z|</th>  <th>[0.025</th>    <th>0.975]</th>  \n",
       "</tr>\n",
       "<tr>\n",
       "  <th>ma.S.L12</th> <td>   -0.9997</td> <td>    0.059</td> <td>  -16.808</td> <td> 0.000</td> <td>   -1.116</td> <td>   -0.883</td>\n",
       "</tr>\n",
       "<tr>\n",
       "  <th>sigma2</th>   <td> 1.822e+05</td> <td> 1.04e+04</td> <td>   17.448</td> <td> 0.000</td> <td> 1.62e+05</td> <td> 2.03e+05</td>\n",
       "</tr>\n",
       "</table>\n",
       "<table class=\"simpletable\">\n",
       "<tr>\n",
       "  <th>Ljung-Box (Q):</th>          <td>1162.77</td> <th>  Jarque-Bera (JB):  </th> <td>774116.74</td>\n",
       "</tr>\n",
       "<tr>\n",
       "  <th>Prob(Q):</th>                 <td>0.00</td>   <th>  Prob(JB):          </th>   <td>0.00</td>   \n",
       "</tr>\n",
       "<tr>\n",
       "  <th>Heteroskedasticity (H):</th> <td>950.60</td>  <th>  Skew:              </th>   <td>-0.28</td>  \n",
       "</tr>\n",
       "<tr>\n",
       "  <th>Prob(H) (two-sided):</th>     <td>0.00</td>   <th>  Kurtosis:          </th>   <td>77.68</td>  \n",
       "</tr>\n",
       "</table><br/><br/>Warnings:<br/>[1] Covariance matrix calculated using the outer product of gradients (complex-step)."
      ],
      "text/plain": [
       "<class 'statsmodels.iolib.summary.Summary'>\n",
       "\"\"\"\n",
       "                                      SARIMAX Results                                       \n",
       "============================================================================================\n",
       "Dep. Variable:                                    y   No. Observations:                 3344\n",
       "Model:             SARIMAX(0, 1, 0)x(0, 1, [1], 12)   Log Likelihood              -24938.174\n",
       "Date:                              Sun, 31 Oct 2021   AIC                          49880.349\n",
       "Time:                                      21:25:38   BIC                          49892.571\n",
       "Sample:                                           0   HQIC                         49884.722\n",
       "                                             - 3344                                         \n",
       "Covariance Type:                                opg                                         \n",
       "==============================================================================\n",
       "                 coef    std err          z      P>|z|      [0.025      0.975]\n",
       "------------------------------------------------------------------------------\n",
       "ma.S.L12      -0.9997      0.059    -16.808      0.000      -1.116      -0.883\n",
       "sigma2      1.822e+05   1.04e+04     17.448      0.000    1.62e+05    2.03e+05\n",
       "===================================================================================\n",
       "Ljung-Box (Q):                     1162.77   Jarque-Bera (JB):            774116.74\n",
       "Prob(Q):                              0.00   Prob(JB):                         0.00\n",
       "Heteroskedasticity (H):             950.60   Skew:                            -0.28\n",
       "Prob(H) (two-sided):                  0.00   Kurtosis:                        77.68\n",
       "===================================================================================\n",
       "\n",
       "Warnings:\n",
       "[1] Covariance matrix calculated using the outer product of gradients (complex-step).\n",
       "\"\"\""
      ]
     },
     "execution_count": 86,
     "metadata": {},
     "output_type": "execute_result"
    }
   ],
   "source": [
    "SARIMA_model_opt = SARIMAX(train_diff.values, order=optimal[0][0], seasonal_order = optimal[0][1])\n",
    "SARIMA_model_opt_fit = SARIMA_model_opt.fit()\n",
    "SARIMA_model_opt_fit.summary()"
   ]
  },
  {
   "cell_type": "code",
   "execution_count": 88,
   "metadata": {},
   "outputs": [
    {
     "data": {
      "text/plain": [
       "-236.24044055172587"
      ]
     },
     "execution_count": 88,
     "metadata": {},
     "output_type": "execute_result"
    }
   ],
   "source": [
    "# use model to forecast\n",
    "pred = SARIMA_model_opt_fit.get_forecast(steps=test.shape[0])\n",
    "pred_val = pred.predicted_mean\n",
    "pred_lw = pred.conf_int()[:,0]\n",
    "pred_up = pred.conf_int()[:,1]\n",
    "pred_idx = list(test.index)\n",
    "\n",
    "r2 = r2_score(test, pred_val)\n",
    "r2"
   ]
  },
  {
   "cell_type": "markdown",
   "metadata": {},
   "source": [
    "get_prediction vs get_forecast??"
   ]
  },
  {
   "cell_type": "code",
   "execution_count": 90,
   "metadata": {
    "scrolled": false
   },
   "outputs": [
    {
     "data": {
      "image/png": "[encoded data removed]",
      "text/plain": [
       "<Figure size 864x432 with 1 Axes>"
      ]
     },
     "metadata": {
      "needs_background": "light"
     },
     "output_type": "display_data"
    }
   ],
   "source": [
    "fig, ax = plt.subplots(figsize=(12,6))\n",
    "sns.lineplot(data=btc_daily, x=btc_daily.index, y='Weighted_Price', label='Weighted_Price')\n",
    "ax.vlines(start, 0, 60000, linestyle='--', color='r', label='Start of Forecast')\n",
    "ax.plot(pred_idx, pred_val, label='Prediction')\n",
    "ax.fill_between(pred_idx, pred_lw, pred_up, color='k', alpha=0.1, label='0.95 prediction interval')\n",
    "ax.legend(loc='upper left')\n",
    "plt.show()"
   ]
  },
  {
   "cell_type": "code",
   "execution_count": null,
   "metadata": {},
   "outputs": [],
   "source": []
  },
  {
   "cell_type": "code",
   "execution_count": null,
   "metadata": {},
   "outputs": [],
   "source": []
  },
  {
   "cell_type": "markdown",
   "metadata": {},
   "source": [
    "# Modeling - Facebook Prophet"
   ]
  },
  {
   "cell_type": "code",
   "execution_count": 96,
   "metadata": {},
   "outputs": [
    {
     "name": "stdout",
     "output_type": "stream",
     "text": [
      "Collecting fbprophet\n",
      "  Using cached fbprophet-0.7.1.tar.gz (64 kB)\n",
      "Requirement already satisfied: Cython>=0.22 in /opt/anaconda3/lib/python3.8/site-packages (from fbprophet) (0.29.21)\n",
      "Requirement already satisfied: cmdstanpy==0.9.5 in /opt/anaconda3/lib/python3.8/site-packages (from fbprophet) (0.9.5)\n",
      "Requirement already satisfied: pystan>=2.14 in /opt/anaconda3/lib/python3.8/site-packages (from fbprophet) (3.3.0)\n",
      "Requirement already satisfied: numpy>=1.15.4 in /opt/anaconda3/lib/python3.8/site-packages (from fbprophet) (1.18.5)\n",
      "Requirement already satisfied: pandas>=1.0.4 in /opt/anaconda3/lib/python3.8/site-packages (from fbprophet) (1.0.5)\n",
      "Requirement already satisfied: matplotlib>=2.0.0 in /opt/anaconda3/lib/python3.8/site-packages (from fbprophet) (3.2.2)\n",
      "Requirement already satisfied: LunarCalendar>=0.0.9 in /opt/anaconda3/lib/python3.8/site-packages (from fbprophet) (0.0.9)\n",
      "Requirement already satisfied: convertdate>=2.1.2 in /opt/anaconda3/lib/python3.8/site-packages (from fbprophet) (2.3.2)\n",
      "Requirement already satisfied: holidays>=0.10.2 in /opt/anaconda3/lib/python3.8/site-packages (from fbprophet) (0.11.3.1)\n",
      "Requirement already satisfied: setuptools-git>=1.2 in /opt/anaconda3/lib/python3.8/site-packages (from fbprophet) (1.2)\n",
      "Requirement already satisfied: python-dateutil>=2.8.0 in /opt/anaconda3/lib/python3.8/site-packages (from fbprophet) (2.8.1)\n",
      "Requirement already satisfied: tqdm>=4.36.1 in /opt/anaconda3/lib/python3.8/site-packages (from fbprophet) (4.60.0)\n",
      "Requirement already satisfied: clikit<0.7,>=0.6 in /opt/anaconda3/lib/python3.8/site-packages (from pystan>=2.14->fbprophet) (0.6.2)\n",
      "Requirement already satisfied: pysimdjson<4.0,>=3.2 in /opt/anaconda3/lib/python3.8/site-packages (from pystan>=2.14->fbprophet) (3.2.0)\n",
      "Requirement already satisfied: aiohttp<4.0,>=3.6 in /opt/anaconda3/lib/python3.8/site-packages (from pystan>=2.14->fbprophet) (3.8.0)\n",
      "Requirement already satisfied: httpstan<4.7,>=4.6 in /opt/anaconda3/lib/python3.8/site-packages (from pystan>=2.14->fbprophet) (4.6.1)\n",
      "Requirement already satisfied: pytz>=2017.2 in /opt/anaconda3/lib/python3.8/site-packages (from pandas>=1.0.4->fbprophet) (2020.1)\n",
      "Requirement already satisfied: pyparsing!=2.0.4,!=2.1.2,!=2.1.6,>=2.0.1 in /opt/anaconda3/lib/python3.8/site-packages (from matplotlib>=2.0.0->fbprophet) (2.4.7)\n",
      "Requirement already satisfied: cycler>=0.10 in /opt/anaconda3/lib/python3.8/site-packages (from matplotlib>=2.0.0->fbprophet) (0.10.0)\n",
      "Requirement already satisfied: kiwisolver>=1.0.1 in /opt/anaconda3/lib/python3.8/site-packages (from matplotlib>=2.0.0->fbprophet) (1.2.0)\n",
      "Requirement already satisfied: ephem>=3.7.5.3 in /opt/anaconda3/lib/python3.8/site-packages (from LunarCalendar>=0.0.9->fbprophet) (4.1)\n",
      "Requirement already satisfied: pymeeus<=1,>=0.3.13 in /opt/anaconda3/lib/python3.8/site-packages (from convertdate>=2.1.2->fbprophet) (0.5.11)\n",
      "Requirement already satisfied: korean-lunar-calendar in /opt/anaconda3/lib/python3.8/site-packages (from holidays>=0.10.2->fbprophet) (0.2.1)\n",
      "Requirement already satisfied: hijri-converter in /opt/anaconda3/lib/python3.8/site-packages (from holidays>=0.10.2->fbprophet) (2.2.2)\n",
      "Requirement already satisfied: six>=1.5 in /opt/anaconda3/lib/python3.8/site-packages (from python-dateutil>=2.8.0->fbprophet) (1.15.0)\n",
      "Requirement already satisfied: crashtest<0.4.0,>=0.3.0; python_version >= \"3.6\" and python_version < \"4.0\" in /opt/anaconda3/lib/python3.8/site-packages (from clikit<0.7,>=0.6->pystan>=2.14->fbprophet) (0.3.1)\n",
      "Requirement already satisfied: pylev<2.0,>=1.3 in /opt/anaconda3/lib/python3.8/site-packages (from clikit<0.7,>=0.6->pystan>=2.14->fbprophet) (1.4.0)\n",
      "Requirement already satisfied: pastel<0.3.0,>=0.2.0 in /opt/anaconda3/lib/python3.8/site-packages (from clikit<0.7,>=0.6->pystan>=2.14->fbprophet) (0.2.1)\n",
      "Requirement already satisfied: aiosignal>=1.1.2 in /opt/anaconda3/lib/python3.8/site-packages (from aiohttp<4.0,>=3.6->pystan>=2.14->fbprophet) (1.2.0)\n",
      "Requirement already satisfied: async-timeout<5.0,>=4.0.0a3 in /opt/anaconda3/lib/python3.8/site-packages (from aiohttp<4.0,>=3.6->pystan>=2.14->fbprophet) (4.0.0a3)\n",
      "Requirement already satisfied: charset-normalizer<3.0,>=2.0 in /opt/anaconda3/lib/python3.8/site-packages (from aiohttp<4.0,>=3.6->pystan>=2.14->fbprophet) (2.0.7)\n",
      "Requirement already satisfied: yarl<2.0,>=1.0 in /opt/anaconda3/lib/python3.8/site-packages (from aiohttp<4.0,>=3.6->pystan>=2.14->fbprophet) (1.7.0)\n",
      "Requirement already satisfied: multidict<7.0,>=4.5 in /opt/anaconda3/lib/python3.8/site-packages (from aiohttp<4.0,>=3.6->pystan>=2.14->fbprophet) (5.2.0)\n",
      "Requirement already satisfied: attrs>=17.3.0 in /opt/anaconda3/lib/python3.8/site-packages (from aiohttp<4.0,>=3.6->pystan>=2.14->fbprophet) (19.3.0)\n",
      "Requirement already satisfied: frozenlist>=1.1.1 in /opt/anaconda3/lib/python3.8/site-packages (from aiohttp<4.0,>=3.6->pystan>=2.14->fbprophet) (1.2.0)\n",
      "Requirement already satisfied: setuptools>=41.0 in /opt/anaconda3/lib/python3.8/site-packages (from httpstan<4.7,>=4.6->pystan>=2.14->fbprophet) (49.2.0.post20200714)\n",
      "Requirement already satisfied: marshmallow<4.0,>=3.10 in /opt/anaconda3/lib/python3.8/site-packages (from httpstan<4.7,>=4.6->pystan>=2.14->fbprophet) (3.14.0)\n",
      "Requirement already satisfied: appdirs<2.0,>=1.4 in /opt/anaconda3/lib/python3.8/site-packages (from httpstan<4.7,>=4.6->pystan>=2.14->fbprophet) (1.4.4)\n",
      "Requirement already satisfied: webargs<9.0,>=8.0 in /opt/anaconda3/lib/python3.8/site-packages (from httpstan<4.7,>=4.6->pystan>=2.14->fbprophet) (8.0.1)\n",
      "Requirement already satisfied: typing-extensions>=3.6.5 in /opt/anaconda3/lib/python3.8/site-packages (from async-timeout<5.0,>=4.0.0a3->aiohttp<4.0,>=3.6->pystan>=2.14->fbprophet) (3.7.4.2)\n",
      "Requirement already satisfied: idna>=2.0 in /opt/anaconda3/lib/python3.8/site-packages (from yarl<2.0,>=1.0->aiohttp<4.0,>=3.6->pystan>=2.14->fbprophet) (2.10)\n",
      "Building wheels for collected packages: fbprophet\n",
      "  Building wheel for fbprophet (setup.py) ... \u001b[?25lerror\n",
      "\u001b[31m  ERROR: Command errored out with exit status 1:\n",
      "   command: /opt/anaconda3/bin/python -u -c 'import sys, setuptools, tokenize; sys.argv[0] = '\"'\"'/private/var/folders/gh/k3x0cnl91zj4r9tfpv2l7tlr0000gn/T/pip-install-s29wacq8/fbprophet/setup.py'\"'\"'; __file__='\"'\"'/private/var/folders/gh/k3x0cnl91zj4r9tfpv2l7tlr0000gn/T/pip-install-s29wacq8/fbprophet/setup.py'\"'\"';f=getattr(tokenize, '\"'\"'open'\"'\"', open)(__file__);code=f.read().replace('\"'\"'\\r\\n'\"'\"', '\"'\"'\\n'\"'\"');f.close();exec(compile(code, __file__, '\"'\"'exec'\"'\"'))' bdist_wheel -d /private/var/folders/gh/k3x0cnl91zj4r9tfpv2l7tlr0000gn/T/pip-wheel-plrn_eas\n",
      "       cwd: /private/var/folders/gh/k3x0cnl91zj4r9tfpv2l7tlr0000gn/T/pip-install-s29wacq8/fbprophet/\n",
      "  Complete output (38 lines):\n",
      "  running bdist_wheel\n",
      "  running build\n",
      "  running build_py\n",
      "  creating build\n",
      "  creating build/lib\n",
      "  creating build/lib/fbprophet\n",
      "  creating build/lib/fbprophet/stan_model\n",
      "  Traceback (most recent call last):\n",
      "    File \"<string>\", line 1, in <module>\n",
      "    File \"/private/var/folders/gh/k3x0cnl91zj4r9tfpv2l7tlr0000gn/T/pip-install-s29wacq8/fbprophet/setup.py\", line 122, in <module>\n",
      "      setup(\n",
      "    File \"/opt/anaconda3/lib/python3.8/site-packages/setuptools/__init__.py\", line 165, in setup\n",
      "      return distutils.core.setup(**attrs)\n",
      "    File \"/opt/anaconda3/lib/python3.8/distutils/core.py\", line 148, in setup\n",
      "      dist.run_commands()\n",
      "    File \"/opt/anaconda3/lib/python3.8/distutils/dist.py\", line 966, in run_commands\n",
      "      self.run_command(cmd)\n",
      "    File \"/opt/anaconda3/lib/python3.8/distutils/dist.py\", line 985, in run_command\n",
      "      cmd_obj.run()\n",
      "    File \"/opt/anaconda3/lib/python3.8/site-packages/wheel/bdist_wheel.py\", line 223, in run\n",
      "      self.run_command('build')\n",
      "    File \"/opt/anaconda3/lib/python3.8/distutils/cmd.py\", line 313, in run_command\n",
      "      self.distribution.run_command(command)\n",
      "    File \"/opt/anaconda3/lib/python3.8/distutils/dist.py\", line 985, in run_command\n",
      "      cmd_obj.run()\n",
      "    File \"/opt/anaconda3/lib/python3.8/distutils/command/build.py\", line 135, in run\n",
      "      self.run_command(cmd_name)\n",
      "    File \"/opt/anaconda3/lib/python3.8/distutils/cmd.py\", line 313, in run_command\n",
      "      self.distribution.run_command(command)\n",
      "    File \"/opt/anaconda3/lib/python3.8/distutils/dist.py\", line 985, in run_command\n",
      "      cmd_obj.run()\n",
      "    File \"/private/var/folders/gh/k3x0cnl91zj4r9tfpv2l7tlr0000gn/T/pip-install-s29wacq8/fbprophet/setup.py\", line 48, in run\n",
      "      build_models(target_dir)\n",
      "    File \"/private/var/folders/gh/k3x0cnl91zj4r9tfpv2l7tlr0000gn/T/pip-install-s29wacq8/fbprophet/setup.py\", line 38, in build_models\n",
      "      StanBackendEnum.get_backend_class(backend).build_model(target_dir, MODEL_DIR)\n",
      "    File \"/private/var/folders/gh/k3x0cnl91zj4r9tfpv2l7tlr0000gn/T/pip-install-s29wacq8/fbprophet/fbprophet/models.py\", line 209, in build_model\n",
      "      import pystan\n",
      "  ModuleNotFoundError: No module named 'pystan'\n",
      "  ----------------------------------------\u001b[0m\n",
      "\u001b[31m  ERROR: Failed building wheel for fbprophet\u001b[0m\n",
      "\u001b[?25h  Running setup.py clean for fbprophet\n"
     ]
    },
    {
     "name": "stdout",
     "output_type": "stream",
     "text": [
      "Failed to build fbprophet\n",
      "Installing collected packages: fbprophet\n",
      "    Running setup.py install for fbprophet ... \u001b[?25lerror\n",
      "\u001b[31m    ERROR: Command errored out with exit status 1:\n",
      "     command: /opt/anaconda3/bin/python -u -c 'import sys, setuptools, tokenize; sys.argv[0] = '\"'\"'/private/var/folders/gh/k3x0cnl91zj4r9tfpv2l7tlr0000gn/T/pip-install-s29wacq8/fbprophet/setup.py'\"'\"'; __file__='\"'\"'/private/var/folders/gh/k3x0cnl91zj4r9tfpv2l7tlr0000gn/T/pip-install-s29wacq8/fbprophet/setup.py'\"'\"';f=getattr(tokenize, '\"'\"'open'\"'\"', open)(__file__);code=f.read().replace('\"'\"'\\r\\n'\"'\"', '\"'\"'\\n'\"'\"');f.close();exec(compile(code, __file__, '\"'\"'exec'\"'\"'))' install --record /private/var/folders/gh/k3x0cnl91zj4r9tfpv2l7tlr0000gn/T/pip-record-m9e5mxpd/install-record.txt --single-version-externally-managed --compile --install-headers /opt/anaconda3/include/python3.8/fbprophet\n",
      "         cwd: /private/var/folders/gh/k3x0cnl91zj4r9tfpv2l7tlr0000gn/T/pip-install-s29wacq8/fbprophet/\n",
      "    Complete output (40 lines):\n",
      "    running install\n",
      "    running build\n",
      "    running build_py\n",
      "    creating build\n",
      "    creating build/lib\n",
      "    creating build/lib/fbprophet\n",
      "    creating build/lib/fbprophet/stan_model\n",
      "    Traceback (most recent call last):\n",
      "      File \"<string>\", line 1, in <module>\n",
      "      File \"/private/var/folders/gh/k3x0cnl91zj4r9tfpv2l7tlr0000gn/T/pip-install-s29wacq8/fbprophet/setup.py\", line 122, in <module>\n",
      "        setup(\n",
      "      File \"/opt/anaconda3/lib/python3.8/site-packages/setuptools/__init__.py\", line 165, in setup\n",
      "        return distutils.core.setup(**attrs)\n",
      "      File \"/opt/anaconda3/lib/python3.8/distutils/core.py\", line 148, in setup\n",
      "        dist.run_commands()\n",
      "      File \"/opt/anaconda3/lib/python3.8/distutils/dist.py\", line 966, in run_commands\n",
      "        self.run_command(cmd)\n",
      "      File \"/opt/anaconda3/lib/python3.8/distutils/dist.py\", line 985, in run_command\n",
      "        cmd_obj.run()\n",
      "      File \"/opt/anaconda3/lib/python3.8/site-packages/setuptools/command/install.py\", line 61, in run\n",
      "        return orig.install.run(self)\n",
      "      File \"/opt/anaconda3/lib/python3.8/distutils/command/install.py\", line 545, in run\n",
      "        self.run_command('build')\n",
      "      File \"/opt/anaconda3/lib/python3.8/distutils/cmd.py\", line 313, in run_command\n",
      "        self.distribution.run_command(command)\n",
      "      File \"/opt/anaconda3/lib/python3.8/distutils/dist.py\", line 985, in run_command\n",
      "        cmd_obj.run()\n",
      "      File \"/opt/anaconda3/lib/python3.8/distutils/command/build.py\", line 135, in run\n",
      "        self.run_command(cmd_name)\n",
      "      File \"/opt/anaconda3/lib/python3.8/distutils/cmd.py\", line 313, in run_command\n",
      "        self.distribution.run_command(command)\n",
      "      File \"/opt/anaconda3/lib/python3.8/distutils/dist.py\", line 985, in run_command\n",
      "        cmd_obj.run()\n",
      "      File \"/private/var/folders/gh/k3x0cnl91zj4r9tfpv2l7tlr0000gn/T/pip-install-s29wacq8/fbprophet/setup.py\", line 48, in run\n",
      "        build_models(target_dir)\n",
      "      File \"/private/var/folders/gh/k3x0cnl91zj4r9tfpv2l7tlr0000gn/T/pip-install-s29wacq8/fbprophet/setup.py\", line 38, in build_models\n",
      "        StanBackendEnum.get_backend_class(backend).build_model(target_dir, MODEL_DIR)\n",
      "      File \"/private/var/folders/gh/k3x0cnl91zj4r9tfpv2l7tlr0000gn/T/pip-install-s29wacq8/fbprophet/fbprophet/models.py\", line 209, in build_model\n",
      "        import pystan\n",
      "    ModuleNotFoundError: No module named 'pystan'\n",
      "    ----------------------------------------\u001b[0m\n",
      "\u001b[31mERROR: Command errored out with exit status 1: /opt/anaconda3/bin/python -u -c 'import sys, setuptools, tokenize; sys.argv[0] = '\"'\"'/private/var/folders/gh/k3x0cnl91zj4r9tfpv2l7tlr0000gn/T/pip-install-s29wacq8/fbprophet/setup.py'\"'\"'; __file__='\"'\"'/private/var/folders/gh/k3x0cnl91zj4r9tfpv2l7tlr0000gn/T/pip-install-s29wacq8/fbprophet/setup.py'\"'\"';f=getattr(tokenize, '\"'\"'open'\"'\"', open)(__file__);code=f.read().replace('\"'\"'\\r\\n'\"'\"', '\"'\"'\\n'\"'\"');f.close();exec(compile(code, __file__, '\"'\"'exec'\"'\"'))' install --record /private/var/folders/gh/k3x0cnl91zj4r9tfpv2l7tlr0000gn/T/pip-record-m9e5mxpd/install-record.txt --single-version-externally-managed --compile --install-headers /opt/anaconda3/include/python3.8/fbprophet Check the logs for full command output.\u001b[0m\n",
      "\u001b[?25h"
     ]
    }
   ],
   "source": [
    "!pip3 install fbprophet"
   ]
  },
  {
   "cell_type": "code",
   "execution_count": 97,
   "metadata": {
    "scrolled": true
   },
   "outputs": [
    {
     "ename": "ModuleNotFoundError",
     "evalue": "No module named 'fbprophet'",
     "output_type": "error",
     "traceback": [
      "\u001b[0;31m---------------------------------------------------------------------------\u001b[0m",
      "\u001b[0;31mModuleNotFoundError\u001b[0m                       Traceback (most recent call last)",
      "\u001b[0;32m<ipython-input-97-f503e9c6cf11>\u001b[0m in \u001b[0;36m<module>\u001b[0;34m\u001b[0m\n\u001b[0;32m----> 1\u001b[0;31m \u001b[0;32mfrom\u001b[0m \u001b[0mfbprophet\u001b[0m \u001b[0;32mimport\u001b[0m \u001b[0mProphet\u001b[0m\u001b[0;34m\u001b[0m\u001b[0;34m\u001b[0m\u001b[0m\n\u001b[0m",
      "\u001b[0;31mModuleNotFoundError\u001b[0m: No module named 'fbprophet'"
     ]
    }
   ],
   "source": [
    "from fbprophet import Prophet"
   ]
  },
  {
   "cell_type": "code",
   "execution_count": null,
   "metadata": {},
   "outputs": [],
   "source": []
  }
 ],
 "metadata": {
  "kernelspec": {
   "display_name": "Python 3",
   "language": "python",
   "name": "python3"
  },
  "language_info": {
   "codemirror_mode": {
    "name": "ipython",
    "version": 3
   },
   "file_extension": ".py",
   "mimetype": "text/x-python",
   "name": "python",
   "nbconvert_exporter": "python",
   "pygments_lexer": "ipython3",
   "version": "3.8.3"
  }
 },
 "nbformat": 4,
 "nbformat_minor": 5
}
