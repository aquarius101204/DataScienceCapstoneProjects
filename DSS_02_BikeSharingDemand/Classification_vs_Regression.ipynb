{
 "cells": [
  {
   "cell_type": "markdown",
   "metadata": {},
   "source": [
    "# Classification vs Regression"
   ]
  },
  {
   "cell_type": "markdown",
   "metadata": {},
   "source": [
    "## 맞춰야 하는 정답(Label, y)이 categorical하면(특정 분류 중에 하나) Classification 문제라고 정의한다.\n",
    "#### 병 진단 예측 (음성 / 양성)\n",
    "#### 스팸 필터링 예측 (ham / spam)\n",
    "#### 광고성 게시물 예측 (광고 / 광고 아님)\n",
    "### y = 0 or 1\n",
    "### Use DecisionTreeClassifier\n",
    "from sklearn.tree import DecisionTreeClassifier\n",
    "\n",
    "model = DecisionTreeClassifier()\n",
    "model"
   ]
  },
  {
   "cell_type": "markdown",
   "metadata": {},
   "source": [
    "## 맞춰야 하는 정답이 continuous하면(높고 낮음을 비교할 수 있는 숫자) Regression 문제라고 정의한다.\n",
    "#### 부동산 가격 예측\n",
    "#### 삼성전자 주가 예측\n",
    "#### 비트코인 가격 예측\n",
    "### y = -infinite to +infinite\n",
    "### Use DecisionTreeRegressor\n",
    "from sklearn.tree import DecisionTreeRegressor\n",
    "\n",
    "model = DecisionTreeRegressor()\n",
    "model"
   ]
  },
  {
   "cell_type": "code",
   "execution_count": null,
   "metadata": {},
   "outputs": [],
   "source": []
  }
 ],
 "metadata": {
  "kernelspec": {
   "display_name": "Python 3",
   "language": "python",
   "name": "python3"
  },
  "language_info": {
   "codemirror_mode": {
    "name": "ipython",
    "version": 3
   },
   "file_extension": ".py",
   "mimetype": "text/x-python",
   "name": "python",
   "nbconvert_exporter": "python",
   "pygments_lexer": "ipython3",
   "version": "3.7.6"
  }
 },
 "nbformat": 4,
 "nbformat_minor": 4
}
