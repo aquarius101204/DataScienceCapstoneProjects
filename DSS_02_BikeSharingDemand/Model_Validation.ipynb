{
 "cells": [
  {
   "cell_type": "markdown",
   "metadata": {},
   "source": [
    "# Hold-out Validation"
   ]
  },
  {
   "cell_type": "code",
   "execution_count": null,
   "metadata": {},
   "outputs": [],
   "source": [
    "train 데이터 전체로 fit하지 않고 일부분만 fit하고, 남은 부분을 predict한다.\n",
    "이렇게 하면 남은 부분의 정답(actual)과 예측값(predict)를 비교할 수 있다."
   ]
  },
  {
   "cell_type": "code",
   "execution_count": null,
   "metadata": {},
   "outputs": [],
   "source": [
    "ex) Train data 10,000개가 있는 경우 데이터를 8:2로 나눈 뒤, 큰 조각을 train 데이터로, 작은 조각을 test데이터로 가정한다.\n",
    "    즉 8,000개로 학습(fit)한 뒤 2,000개를 예측(predict)한다.\n",
    "    Label의 예측값, 즉 y(predict)가 나오면 이 y(predict)를 Label의 정답인 y(actual)과 비교한다."
   ]
  },
  {
   "cell_type": "markdown",
   "metadata": {},
   "source": [
    "# Cross Validation"
   ]
  },
  {
   "cell_type": "code",
   "execution_count": null,
   "metadata": {},
   "outputs": [],
   "source": [
    "train 데이터를 1/n로 나눈 뒤 한 조각을 제외한 나머지로 fit하고 한 조각을 predict한다.\n",
    "이 방식을 n번 반복하면 결과적으로 train데이터의 개수와 일치하는 정답(actual)과 예측값(predict)이 나온다."
   ]
  },
  {
   "cell_type": "markdown",
   "metadata": {},
   "source": [
    "ex) train데이터 10,000개를 2,000(A) / 2,000(B) / 2,000(C) / 2,000(D) / 2,000(E)로 다섯조각을 낸 뒤, 조각을 뺀 나머지로 알고리즘을 학습하고, 조각을 예측한다.\n",
    "    1. B + C + D + E -> A\n",
    "    2. A + C + D + E -> B\n",
    "    3. A + B + D + E -> C\n",
    "    4. A + B + C + E -> D\n",
    "    5. A + B + C + D -> E\n",
    "    --> Lable의 예측값, 즉 y(predict)가 나온다. 이 y(predict)를 lable의 정답인 y(actual)과 비교한다."
   ]
  },
  {
   "cell_type": "code",
   "execution_count": null,
   "metadata": {},
   "outputs": [],
   "source": [
    "Cross Validation 사용 시,\n",
    "정확도가 중요하다면 잘게 조각내고, 속도가 중요하다면 적게 조각낸다.\n",
    "일반적으로 시작은 5개로 쪼개고 그 다음에 조절한다."
   ]
  },
  {
   "cell_type": "markdown",
   "metadata": {},
   "source": [
    "# Hold-out Validation vs Cross Validation\n",
    "        Hold-out Validation                 Cross Validation\n",
    "장점     실행속도가 빠르다(fit을 한번밖에 안 함)      실행속도가 느리다(조각만큼 fit을 해줘야 함)\n",
    "단점     train과 valid를 균등하게 나눠주지 않으면    train과 valid를 균등하게 나눠주지 않아도\n",
    "        점수의 정확도가 떨어질 수 있다.             점수의 정확도가 크게 떨어지지 않는다."
   ]
  },
  {
   "cell_type": "code",
   "execution_count": null,
   "metadata": {},
   "outputs": [],
   "source": []
  }
 ],
 "metadata": {
  "kernelspec": {
   "display_name": "Python 3",
   "language": "python",
   "name": "python3"
  },
  "language_info": {
   "codemirror_mode": {
    "name": "ipython",
    "version": 3
   },
   "file_extension": ".py",
   "mimetype": "text/x-python",
   "name": "python",
   "nbconvert_exporter": "python",
   "pygments_lexer": "ipython3",
   "version": "3.7.6"
  }
 },
 "nbformat": 4,
 "nbformat_minor": 4
}
