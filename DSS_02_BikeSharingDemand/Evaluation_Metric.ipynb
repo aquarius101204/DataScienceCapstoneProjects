{
 "cells": [
  {
   "cell_type": "markdown",
   "metadata": {},
   "source": [
    "# Evaluation Metric"
   ]
  },
  {
   "cell_type": "code",
   "execution_count": null,
   "metadata": {
    "scrolled": true
   },
   "outputs": [],
   "source": [
    "예측한 모델이 잘 구현되었는지, 이전에 구현한 모델에 비해 발전하였는지를 '정량적으로' 측정하기 위해 측정공식(Evaluation Metric)을 사용한다."
   ]
  },
  {
   "cell_type": "code",
   "execution_count": null,
   "metadata": {},
   "outputs": [],
   "source": [
    "Accuracy(정확도)는  측정 공식 중의 하나이다.\n",
    "정답이 100이라고 했을 때, 101이라고 예측한 모델과 125라고 예측한 모델이 있다면\n",
    "사람은 101이라고 예측한 모델이 더 정확하다고 판단하겠지만 accuracy 입장에서는 둘다 틀린 것이다.\n",
    "따라서 Accuracy는 classification 문제에는 적합하지만, regression 문제에는 부적합하다."
   ]
  },
  {
   "cell_type": "code",
   "execution_count": null,
   "metadata": {},
   "outputs": [],
   "source": [
    "Regression 문제에서는 정답(actual, a)과 예측값(predict, p)의 차이를 비교하는데, 이 수치가 0에 가까울수록 좋은 모델이라 판단하고, 0에서 멀어질수록 안 좋은 모델이라 판단한다."
   ]
  },
  {
   "cell_type": "code",
   "execution_count": null,
   "metadata": {},
   "outputs": [],
   "source": [
    "## Evaluation Metric for Regression\n",
    "1. Mean Absolute Error (MAE)\n",
    "    |p-a|   ** 예측값과 정답의 차이의 절대값\n",
    "2. Mean Squared Error (MSE)\n",
    "    (p-a)^2   ** 예측값과 정답의 차이의 제곱\n",
    "\n",
    "위 두 방법의 차이: MSE는 오차값을 제곱하기 때문에 덜 정확하다는 것을 확연하게 보여준다. -> 정확도가 중요한 케이스면 MSE를 선택하는 것이 좋다.\n",
    "    \n",
    "3. Root Mean Squared Error (MSE)\n",
    "    root of (p-a)^2\n",
    "\n",
    "-> 2번과 3번은 오차가 커질수록 페널티를 더 많이 주는 방식이다."
   ]
  },
  {
   "cell_type": "code",
   "execution_count": null,
   "metadata": {},
   "outputs": [],
   "source": [
    "Bike Sharing Demand 에서는 위 세 가지 측정 공식이 아닌 새로운 측정 공식을 사용하는데,\n",
    "이를 Root Mean Squared Logarithmic Error (RMSLE)라고 한다.\n",
    "https://www.kaggle.com/c/bike-sharing-demand/overview/evaluation\n",
    "\n",
    "RMSLE은 로그를 씌웠기 때문에 오차가 커질수록 페널티는 비례해서 증가하지 않고 증가폭이 작아진다. (로그 그래프의 특성상)\n",
    "-> MSE나 RMSE와 반대로 동작한다\n",
    "-> 작게 여러 개 틀린 것보다 많이 맞추고 하나만 크게 틀리는 게 더 유리하다.\n",
    "   (백 개의 데이터가 하나씩 오차인 것보다 다 맞고 한 데이터가 백만큼 오차나는 게 더 유리하다.)"
   ]
  }
 ],
 "metadata": {
  "kernelspec": {
   "display_name": "Python 3",
   "language": "python",
   "name": "python3"
  },
  "language_info": {
   "codemirror_mode": {
    "name": "ipython",
    "version": 3
   },
   "file_extension": ".py",
   "mimetype": "text/x-python",
   "name": "python",
   "nbconvert_exporter": "python",
   "pygments_lexer": "ipython3",
   "version": "3.8.3"
  }
 },
 "nbformat": 4,
 "nbformat_minor": 4
}
