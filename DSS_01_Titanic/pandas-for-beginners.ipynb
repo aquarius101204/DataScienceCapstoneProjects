{
 "cells": [
  {
   "cell_type": "code",
   "execution_count": 2,
   "metadata": {},
   "outputs": [],
   "source": [
    "import pandas as pd"
   ]
  },
  {
   "cell_type": "markdown",
   "metadata": {},
   "source": [
    "## 데이터 불러오기"
   ]
  },
  {
   "cell_type": "code",
   "execution_count": 11,
   "metadata": {},
   "outputs": [
    {
     "name": "stdout",
     "output_type": "stream",
     "text": [
      "(9, 6)\n"
     ]
    },
    {
     "data": {
      "text/html": [
       "<div>\n",
       "<style scoped>\n",
       "    .dataframe tbody tr th:only-of-type {\n",
       "        vertical-align: middle;\n",
       "    }\n",
       "\n",
       "    .dataframe tbody tr th {\n",
       "        vertical-align: top;\n",
       "    }\n",
       "\n",
       "    .dataframe thead th {\n",
       "        text-align: right;\n",
       "    }\n",
       "</style>\n",
       "<table border=\"1\" class=\"dataframe\">\n",
       "  <thead>\n",
       "    <tr style=\"text-align: right;\">\n",
       "      <th></th>\n",
       "      <th>이름</th>\n",
       "      <th>측정일</th>\n",
       "      <th>몸무게</th>\n",
       "      <th>단위</th>\n",
       "      <th>담당</th>\n",
       "      <th>지점</th>\n",
       "    </tr>\n",
       "    <tr>\n",
       "      <th>회차</th>\n",
       "      <th></th>\n",
       "      <th></th>\n",
       "      <th></th>\n",
       "      <th></th>\n",
       "      <th></th>\n",
       "      <th></th>\n",
       "    </tr>\n",
       "  </thead>\n",
       "  <tbody>\n",
       "    <tr>\n",
       "      <td>5</td>\n",
       "      <td>강성희</td>\n",
       "      <td>2019-01-05</td>\n",
       "      <td>76.2</td>\n",
       "      <td>kg</td>\n",
       "      <td>김지수</td>\n",
       "      <td>강남구</td>\n",
       "    </tr>\n",
       "    <tr>\n",
       "      <td>6</td>\n",
       "      <td>강성희</td>\n",
       "      <td>2019-01-06</td>\n",
       "      <td>75.7</td>\n",
       "      <td>kg</td>\n",
       "      <td>최재우</td>\n",
       "      <td>여의도</td>\n",
       "    </tr>\n",
       "    <tr>\n",
       "      <td>7</td>\n",
       "      <td>강성희</td>\n",
       "      <td>2019-01-07</td>\n",
       "      <td>NaN</td>\n",
       "      <td>kg</td>\n",
       "      <td>최재우</td>\n",
       "      <td>여의도</td>\n",
       "    </tr>\n",
       "  </tbody>\n",
       "</table>\n",
       "</div>"
      ],
      "text/plain": [
       "     이름         측정일   몸무게  단위   담당   지점\n",
       "회차                                     \n",
       "5   강성희  2019-01-05  76.2  kg  김지수  강남구\n",
       "6   강성희  2019-01-06  75.7  kg  최재우  여의도\n",
       "7   강성희  2019-01-07   NaN  kg  최재우  여의도"
      ]
     },
     "execution_count": 11,
     "metadata": {},
     "output_type": "execute_result"
    }
   ],
   "source": [
    "url = 'http://bit.ly/ds01-weight-history'\n",
    "\n",
    "# DataFrame\n",
    "data = pd.read_csv(url, index_col=\"회차\")\n",
    "\n",
    "print(data.shape)   # print(row,col)\n",
    "data.head()   # print first 5 rows\n",
    "data.tail().head().head(3)"
   ]
  },
  {
   "cell_type": "markdown",
   "metadata": {},
   "source": [
    "## 행열 검색하기"
   ]
  },
  {
   "cell_type": "markdown",
   "metadata": {},
   "source": [
    "### 열(column) 검색"
   ]
  },
  {
   "cell_type": "code",
   "execution_count": 14,
   "metadata": {},
   "outputs": [
    {
     "data": {
      "text/html": [
       "<div>\n",
       "<style scoped>\n",
       "    .dataframe tbody tr th:only-of-type {\n",
       "        vertical-align: middle;\n",
       "    }\n",
       "\n",
       "    .dataframe tbody tr th {\n",
       "        vertical-align: top;\n",
       "    }\n",
       "\n",
       "    .dataframe thead th {\n",
       "        text-align: right;\n",
       "    }\n",
       "</style>\n",
       "<table border=\"1\" class=\"dataframe\">\n",
       "  <thead>\n",
       "    <tr style=\"text-align: right;\">\n",
       "      <th></th>\n",
       "      <th>이름</th>\n",
       "      <th>측정일</th>\n",
       "      <th>몸무게</th>\n",
       "      <th>단위</th>\n",
       "      <th>담당</th>\n",
       "      <th>지점</th>\n",
       "    </tr>\n",
       "    <tr>\n",
       "      <th>회차</th>\n",
       "      <th></th>\n",
       "      <th></th>\n",
       "      <th></th>\n",
       "      <th></th>\n",
       "      <th></th>\n",
       "      <th></th>\n",
       "    </tr>\n",
       "  </thead>\n",
       "  <tbody>\n",
       "    <tr>\n",
       "      <td>1</td>\n",
       "      <td>강성희</td>\n",
       "      <td>2019-01-01</td>\n",
       "      <td>76.4</td>\n",
       "      <td>kg</td>\n",
       "      <td>김지수</td>\n",
       "      <td>강남</td>\n",
       "    </tr>\n",
       "  </tbody>\n",
       "</table>\n",
       "</div>"
      ],
      "text/plain": [
       "     이름         측정일   몸무게  단위   담당  지점\n",
       "회차                                    \n",
       "1   강성희  2019-01-01  76.4  kg  김지수  강남"
      ]
     },
     "execution_count": 14,
     "metadata": {},
     "output_type": "execute_result"
    }
   ],
   "source": [
    "data.head(1)"
   ]
  },
  {
   "cell_type": "code",
   "execution_count": 17,
   "metadata": {},
   "outputs": [
    {
     "data": {
      "text/plain": [
       "회차\n",
       "1    76.4\n",
       "2    75.7\n",
       "3    76.0\n",
       "4     NaN\n",
       "5    76.2\n",
       "6    75.7\n",
       "7     NaN\n",
       "8     NaN\n",
       "9    75.0\n",
       "Name: 몸무게, dtype: float64"
      ]
     },
     "execution_count": 17,
     "metadata": {},
     "output_type": "execute_result"
    }
   ],
   "source": [
    "data['몸무게']"
   ]
  },
  {
   "cell_type": "code",
   "execution_count": 18,
   "metadata": {},
   "outputs": [
    {
     "data": {
      "text/plain": [
       "회차\n",
       "1     강남\n",
       "2     강남\n",
       "3     강남\n",
       "4    여의도\n",
       "5    강남구\n",
       "6    여의도\n",
       "7    여의도\n",
       "8    여의도\n",
       "9    여의도\n",
       "Name: 지점, dtype: object"
      ]
     },
     "execution_count": 18,
     "metadata": {},
     "output_type": "execute_result"
    }
   ],
   "source": [
    "data['지점']"
   ]
  },
  {
   "cell_type": "code",
   "execution_count": 23,
   "metadata": {},
   "outputs": [
    {
     "data": {
      "text/html": [
       "<div>\n",
       "<style scoped>\n",
       "    .dataframe tbody tr th:only-of-type {\n",
       "        vertical-align: middle;\n",
       "    }\n",
       "\n",
       "    .dataframe tbody tr th {\n",
       "        vertical-align: top;\n",
       "    }\n",
       "\n",
       "    .dataframe thead th {\n",
       "        text-align: right;\n",
       "    }\n",
       "</style>\n",
       "<table border=\"1\" class=\"dataframe\">\n",
       "  <thead>\n",
       "    <tr style=\"text-align: right;\">\n",
       "      <th></th>\n",
       "      <th>이름</th>\n",
       "      <th>지점</th>\n",
       "    </tr>\n",
       "    <tr>\n",
       "      <th>회차</th>\n",
       "      <th></th>\n",
       "      <th></th>\n",
       "    </tr>\n",
       "  </thead>\n",
       "  <tbody>\n",
       "    <tr>\n",
       "      <td>1</td>\n",
       "      <td>강성희</td>\n",
       "      <td>강남</td>\n",
       "    </tr>\n",
       "    <tr>\n",
       "      <td>2</td>\n",
       "      <td>강성희</td>\n",
       "      <td>강남</td>\n",
       "    </tr>\n",
       "    <tr>\n",
       "      <td>3</td>\n",
       "      <td>강성희</td>\n",
       "      <td>강남</td>\n",
       "    </tr>\n",
       "    <tr>\n",
       "      <td>4</td>\n",
       "      <td>강성희</td>\n",
       "      <td>여의도</td>\n",
       "    </tr>\n",
       "    <tr>\n",
       "      <td>5</td>\n",
       "      <td>강성희</td>\n",
       "      <td>강남구</td>\n",
       "    </tr>\n",
       "    <tr>\n",
       "      <td>6</td>\n",
       "      <td>강성희</td>\n",
       "      <td>여의도</td>\n",
       "    </tr>\n",
       "    <tr>\n",
       "      <td>7</td>\n",
       "      <td>강성희</td>\n",
       "      <td>여의도</td>\n",
       "    </tr>\n",
       "    <tr>\n",
       "      <td>8</td>\n",
       "      <td>강성희</td>\n",
       "      <td>여의도</td>\n",
       "    </tr>\n",
       "    <tr>\n",
       "      <td>9</td>\n",
       "      <td>강성희</td>\n",
       "      <td>여의도</td>\n",
       "    </tr>\n",
       "  </tbody>\n",
       "</table>\n",
       "</div>"
      ],
      "text/plain": [
       "     이름   지점\n",
       "회차          \n",
       "1   강성희   강남\n",
       "2   강성희   강남\n",
       "3   강성희   강남\n",
       "4   강성희  여의도\n",
       "5   강성희  강남구\n",
       "6   강성희  여의도\n",
       "7   강성희  여의도\n",
       "8   강성희  여의도\n",
       "9   강성희  여의도"
      ]
     },
     "execution_count": 23,
     "metadata": {},
     "output_type": "execute_result"
    }
   ],
   "source": [
    "# data[['이름', '지점']]   # 두 개 이상 사용할 때는 [[]], 안쪽 중괄호가 list\n",
    "cols=['이름', '지점']\n",
    "data[cols]"
   ]
  },
  {
   "cell_type": "markdown",
   "metadata": {},
   "source": [
    "### 행(rows) 검색"
   ]
  },
  {
   "cell_type": "code",
   "execution_count": 25,
   "metadata": {},
   "outputs": [
    {
     "data": {
      "text/plain": [
       "이름            강성희\n",
       "측정일    2019-01-01\n",
       "몸무게          76.4\n",
       "단위             kg\n",
       "담당            김지수\n",
       "지점             강남\n",
       "Name: 1, dtype: object"
      ]
     },
     "execution_count": 25,
     "metadata": {},
     "output_type": "execute_result"
    }
   ],
   "source": [
    "# loc = location\n",
    "data.loc[1]   # 여기서 1은 회차가 1,2,...로 되어 있으니까 1로 한 거다. \"1회차\" 이렇게 되어 있다면 \"1회차\"라고 하면 된다."
   ]
  },
  {
   "cell_type": "code",
   "execution_count": 26,
   "metadata": {},
   "outputs": [
    {
     "data": {
      "text/html": [
       "<div>\n",
       "<style scoped>\n",
       "    .dataframe tbody tr th:only-of-type {\n",
       "        vertical-align: middle;\n",
       "    }\n",
       "\n",
       "    .dataframe tbody tr th {\n",
       "        vertical-align: top;\n",
       "    }\n",
       "\n",
       "    .dataframe thead th {\n",
       "        text-align: right;\n",
       "    }\n",
       "</style>\n",
       "<table border=\"1\" class=\"dataframe\">\n",
       "  <thead>\n",
       "    <tr style=\"text-align: right;\">\n",
       "      <th></th>\n",
       "      <th>이름</th>\n",
       "      <th>측정일</th>\n",
       "      <th>몸무게</th>\n",
       "      <th>단위</th>\n",
       "      <th>담당</th>\n",
       "      <th>지점</th>\n",
       "    </tr>\n",
       "    <tr>\n",
       "      <th>회차</th>\n",
       "      <th></th>\n",
       "      <th></th>\n",
       "      <th></th>\n",
       "      <th></th>\n",
       "      <th></th>\n",
       "      <th></th>\n",
       "    </tr>\n",
       "  </thead>\n",
       "  <tbody>\n",
       "    <tr>\n",
       "      <td>1</td>\n",
       "      <td>강성희</td>\n",
       "      <td>2019-01-01</td>\n",
       "      <td>76.4</td>\n",
       "      <td>kg</td>\n",
       "      <td>김지수</td>\n",
       "      <td>강남</td>\n",
       "    </tr>\n",
       "    <tr>\n",
       "      <td>2</td>\n",
       "      <td>강성희</td>\n",
       "      <td>2019-01-02</td>\n",
       "      <td>75.7</td>\n",
       "      <td>kg</td>\n",
       "      <td>김지수</td>\n",
       "      <td>강남</td>\n",
       "    </tr>\n",
       "    <tr>\n",
       "      <td>3</td>\n",
       "      <td>강성희</td>\n",
       "      <td>2019-01-03</td>\n",
       "      <td>76.0</td>\n",
       "      <td>kg</td>\n",
       "      <td>김지수</td>\n",
       "      <td>강남</td>\n",
       "    </tr>\n",
       "  </tbody>\n",
       "</table>\n",
       "</div>"
      ],
      "text/plain": [
       "     이름         측정일   몸무게  단위   담당  지점\n",
       "회차                                    \n",
       "1   강성희  2019-01-01  76.4  kg  김지수  강남\n",
       "2   강성희  2019-01-02  75.7  kg  김지수  강남\n",
       "3   강성희  2019-01-03  76.0  kg  김지수  강남"
      ]
     },
     "execution_count": 26,
     "metadata": {},
     "output_type": "execute_result"
    }
   ],
   "source": [
    "idx = [1,2,3]\n",
    "data.loc[idx]"
   ]
  },
  {
   "cell_type": "markdown",
   "metadata": {},
   "source": [
    "### 행열 동시검색"
   ]
  },
  {
   "cell_type": "code",
   "execution_count": 27,
   "metadata": {},
   "outputs": [
    {
     "data": {
      "text/plain": [
       "'강성희'"
      ]
     },
     "execution_count": 27,
     "metadata": {},
     "output_type": "execute_result"
    }
   ],
   "source": [
    "data.loc[1,\"이름\"]"
   ]
  },
  {
   "cell_type": "code",
   "execution_count": 30,
   "metadata": {
    "scrolled": false
   },
   "outputs": [
    {
     "data": {
      "text/html": [
       "<div>\n",
       "<style scoped>\n",
       "    .dataframe tbody tr th:only-of-type {\n",
       "        vertical-align: middle;\n",
       "    }\n",
       "\n",
       "    .dataframe tbody tr th {\n",
       "        vertical-align: top;\n",
       "    }\n",
       "\n",
       "    .dataframe thead th {\n",
       "        text-align: right;\n",
       "    }\n",
       "</style>\n",
       "<table border=\"1\" class=\"dataframe\">\n",
       "  <thead>\n",
       "    <tr style=\"text-align: right;\">\n",
       "      <th></th>\n",
       "      <th>이름</th>\n",
       "      <th>지점</th>\n",
       "    </tr>\n",
       "    <tr>\n",
       "      <th>회차</th>\n",
       "      <th></th>\n",
       "      <th></th>\n",
       "    </tr>\n",
       "  </thead>\n",
       "  <tbody>\n",
       "    <tr>\n",
       "      <td>1</td>\n",
       "      <td>강성희</td>\n",
       "      <td>강남</td>\n",
       "    </tr>\n",
       "    <tr>\n",
       "      <td>2</td>\n",
       "      <td>강성희</td>\n",
       "      <td>강남</td>\n",
       "    </tr>\n",
       "    <tr>\n",
       "      <td>3</td>\n",
       "      <td>강성희</td>\n",
       "      <td>강남</td>\n",
       "    </tr>\n",
       "  </tbody>\n",
       "</table>\n",
       "</div>"
      ],
      "text/plain": [
       "     이름  지점\n",
       "회차         \n",
       "1   강성희  강남\n",
       "2   강성희  강남\n",
       "3   강성희  강남"
      ]
     },
     "execution_count": 30,
     "metadata": {},
     "output_type": "execute_result"
    }
   ],
   "source": [
    "idx = [1,2,3]\n",
    "cols = ['이름','지점']\n",
    "\n",
    "data.loc[idx, cols]"
   ]
  },
  {
   "cell_type": "code",
   "execution_count": 32,
   "metadata": {},
   "outputs": [
    {
     "data": {
      "text/html": [
       "<div>\n",
       "<style scoped>\n",
       "    .dataframe tbody tr th:only-of-type {\n",
       "        vertical-align: middle;\n",
       "    }\n",
       "\n",
       "    .dataframe tbody tr th {\n",
       "        vertical-align: top;\n",
       "    }\n",
       "\n",
       "    .dataframe thead th {\n",
       "        text-align: right;\n",
       "    }\n",
       "</style>\n",
       "<table border=\"1\" class=\"dataframe\">\n",
       "  <thead>\n",
       "    <tr style=\"text-align: right;\">\n",
       "      <th></th>\n",
       "      <th>이름</th>\n",
       "      <th>지점</th>\n",
       "      <th>담당</th>\n",
       "    </tr>\n",
       "    <tr>\n",
       "      <th>회차</th>\n",
       "      <th></th>\n",
       "      <th></th>\n",
       "      <th></th>\n",
       "    </tr>\n",
       "  </thead>\n",
       "  <tbody>\n",
       "    <tr>\n",
       "      <td>2</td>\n",
       "      <td>강성희</td>\n",
       "      <td>강남</td>\n",
       "      <td>김지수</td>\n",
       "    </tr>\n",
       "    <tr>\n",
       "      <td>5</td>\n",
       "      <td>강성희</td>\n",
       "      <td>강남구</td>\n",
       "      <td>김지수</td>\n",
       "    </tr>\n",
       "    <tr>\n",
       "      <td>6</td>\n",
       "      <td>강성희</td>\n",
       "      <td>여의도</td>\n",
       "      <td>최재우</td>\n",
       "    </tr>\n",
       "  </tbody>\n",
       "</table>\n",
       "</div>"
      ],
      "text/plain": [
       "     이름   지점   담당\n",
       "회차               \n",
       "2   강성희   강남  김지수\n",
       "5   강성희  강남구  김지수\n",
       "6   강성희  여의도  최재우"
      ]
     },
     "execution_count": 32,
     "metadata": {},
     "output_type": "execute_result"
    }
   ],
   "source": [
    "idx = [2,5,6]\n",
    "cols = ['이름', '지점', '담당']\n",
    "\n",
    "data.loc[idx, cols]"
   ]
  },
  {
   "cell_type": "markdown",
   "metadata": {},
   "source": [
    "## 기본기능"
   ]
  },
  {
   "cell_type": "code",
   "execution_count": 33,
   "metadata": {},
   "outputs": [
    {
     "data": {
      "text/plain": [
       "회차\n",
       "1    76.4\n",
       "2    75.7\n",
       "3    76.0\n",
       "4     NaN\n",
       "5    76.2\n",
       "6    75.7\n",
       "7     NaN\n",
       "8     NaN\n",
       "9    75.0\n",
       "Name: 몸무게, dtype: float64"
      ]
     },
     "execution_count": 33,
     "metadata": {},
     "output_type": "execute_result"
    }
   ],
   "source": [
    "data['몸무게']"
   ]
  },
  {
   "cell_type": "code",
   "execution_count": 34,
   "metadata": {},
   "outputs": [
    {
     "data": {
      "text/plain": [
       "75.83333333333333"
      ]
     },
     "execution_count": 34,
     "metadata": {},
     "output_type": "execute_result"
    }
   ],
   "source": [
    "data['몸무게'].mean()"
   ]
  },
  {
   "cell_type": "code",
   "execution_count": 35,
   "metadata": {},
   "outputs": [
    {
     "data": {
      "text/plain": [
       "76.4"
      ]
     },
     "execution_count": 35,
     "metadata": {},
     "output_type": "execute_result"
    }
   ],
   "source": [
    "data['몸무게'].max()"
   ]
  },
  {
   "cell_type": "code",
   "execution_count": 36,
   "metadata": {},
   "outputs": [
    {
     "data": {
      "text/plain": [
       "75.0"
      ]
     },
     "execution_count": 36,
     "metadata": {},
     "output_type": "execute_result"
    }
   ],
   "source": [
    "data['몸무게'].min()"
   ]
  },
  {
   "cell_type": "code",
   "execution_count": 37,
   "metadata": {},
   "outputs": [
    {
     "data": {
      "text/plain": [
       "0.4926120853842992"
      ]
     },
     "execution_count": 37,
     "metadata": {},
     "output_type": "execute_result"
    }
   ],
   "source": [
    "data['몸무게'].std()"
   ]
  },
  {
   "cell_type": "code",
   "execution_count": 39,
   "metadata": {},
   "outputs": [
    {
     "data": {
      "text/plain": [
       "76.15"
      ]
     },
     "execution_count": 39,
     "metadata": {},
     "output_type": "execute_result"
    }
   ],
   "source": [
    "data['몸무게'].quantile(0.75)"
   ]
  },
  {
   "cell_type": "code",
   "execution_count": 43,
   "metadata": {},
   "outputs": [
    {
     "data": {
      "text/plain": [
       "회차\n",
       "1     강남\n",
       "2     강남\n",
       "3     강남\n",
       "4    여의도\n",
       "5    강남구\n",
       "6    여의도\n",
       "7    여의도\n",
       "8    여의도\n",
       "9    여의도\n",
       "Name: 지점, dtype: object"
      ]
     },
     "execution_count": 43,
     "metadata": {},
     "output_type": "execute_result"
    }
   ],
   "source": [
    "data['지점']"
   ]
  },
  {
   "cell_type": "code",
   "execution_count": 41,
   "metadata": {
    "scrolled": true
   },
   "outputs": [
    {
     "data": {
      "text/plain": [
       "회차\n",
       "1     강남\n",
       "2     강남\n",
       "3     강남\n",
       "4    여의도\n",
       "5     강남\n",
       "6    여의도\n",
       "7    여의도\n",
       "8    여의도\n",
       "9    여의도\n",
       "Name: 지점, dtype: object"
      ]
     },
     "execution_count": 41,
     "metadata": {},
     "output_type": "execute_result"
    }
   ],
   "source": [
    "data['지점'].replace('강남구', '강남')"
   ]
  },
  {
   "cell_type": "code",
   "execution_count": 42,
   "metadata": {},
   "outputs": [
    {
     "data": {
      "text/plain": [
       "회차\n",
       "1     강남\n",
       "2     강남\n",
       "3     강남\n",
       "4    여의도\n",
       "5    강남구\n",
       "6    여의도\n",
       "7    여의도\n",
       "8    여의도\n",
       "9    여의도\n",
       "Name: 지점, dtype: object"
      ]
     },
     "execution_count": 42,
     "metadata": {},
     "output_type": "execute_result"
    }
   ],
   "source": [
    "data['지점']   # 원본은 바꾸지 않는다"
   ]
  },
  {
   "cell_type": "code",
   "execution_count": 48,
   "metadata": {},
   "outputs": [
    {
     "data": {
      "text/plain": [
       "회차\n",
       "1     강남\n",
       "2     강남\n",
       "3     강남\n",
       "4    여의도\n",
       "5     강남\n",
       "6    여의도\n",
       "7    여의도\n",
       "8    여의도\n",
       "9    여의도\n",
       "Name: 지점, dtype: object"
      ]
     },
     "execution_count": 48,
     "metadata": {},
     "output_type": "execute_result"
    }
   ],
   "source": [
    "data['지점'] = data['지점'].replace('강남구', '강남')   # 원본에 덮어씌운다\n",
    "data['지점']"
   ]
  },
  {
   "cell_type": "code",
   "execution_count": 49,
   "metadata": {},
   "outputs": [
    {
     "data": {
      "text/plain": [
       "회차\n",
       "1    76.4\n",
       "2    75.7\n",
       "3    76.0\n",
       "4     NaN\n",
       "5    76.2\n",
       "6    75.7\n",
       "7     NaN\n",
       "8     NaN\n",
       "9    75.0\n",
       "Name: 몸무게, dtype: float64"
      ]
     },
     "execution_count": 49,
     "metadata": {},
     "output_type": "execute_result"
    }
   ],
   "source": [
    "data['몸무게']"
   ]
  },
  {
   "cell_type": "code",
   "execution_count": 50,
   "metadata": {},
   "outputs": [
    {
     "data": {
      "text/plain": [
       "회차\n",
       "1     76.4\n",
       "2     75.7\n",
       "3     76.0\n",
       "4    100.0\n",
       "5     76.2\n",
       "6     75.7\n",
       "7    100.0\n",
       "8    100.0\n",
       "9     75.0\n",
       "Name: 몸무게, dtype: float64"
      ]
     },
     "execution_count": 50,
     "metadata": {},
     "output_type": "execute_result"
    }
   ],
   "source": [
    "# NaN = Not a Number = Null != \"NaN\"(string)\n",
    "data['몸무게'].fillna(100)   # fillna = Fill NaN"
   ]
  },
  {
   "cell_type": "markdown",
   "metadata": {},
   "source": [
    "## 색인(indexing)"
   ]
  },
  {
   "cell_type": "code",
   "execution_count": 51,
   "metadata": {},
   "outputs": [
    {
     "data": {
      "text/html": [
       "<div>\n",
       "<style scoped>\n",
       "    .dataframe tbody tr th:only-of-type {\n",
       "        vertical-align: middle;\n",
       "    }\n",
       "\n",
       "    .dataframe tbody tr th {\n",
       "        vertical-align: top;\n",
       "    }\n",
       "\n",
       "    .dataframe thead th {\n",
       "        text-align: right;\n",
       "    }\n",
       "</style>\n",
       "<table border=\"1\" class=\"dataframe\">\n",
       "  <thead>\n",
       "    <tr style=\"text-align: right;\">\n",
       "      <th></th>\n",
       "      <th>이름</th>\n",
       "      <th>측정일</th>\n",
       "      <th>몸무게</th>\n",
       "      <th>단위</th>\n",
       "      <th>담당</th>\n",
       "      <th>지점</th>\n",
       "    </tr>\n",
       "    <tr>\n",
       "      <th>회차</th>\n",
       "      <th></th>\n",
       "      <th></th>\n",
       "      <th></th>\n",
       "      <th></th>\n",
       "      <th></th>\n",
       "      <th></th>\n",
       "    </tr>\n",
       "  </thead>\n",
       "  <tbody>\n",
       "    <tr>\n",
       "      <td>1</td>\n",
       "      <td>강성희</td>\n",
       "      <td>2019-01-01</td>\n",
       "      <td>76.4</td>\n",
       "      <td>kg</td>\n",
       "      <td>김지수</td>\n",
       "      <td>강남</td>\n",
       "    </tr>\n",
       "  </tbody>\n",
       "</table>\n",
       "</div>"
      ],
      "text/plain": [
       "     이름         측정일   몸무게  단위   담당  지점\n",
       "회차                                    \n",
       "1   강성희  2019-01-01  76.4  kg  김지수  강남"
      ]
     },
     "execution_count": 51,
     "metadata": {},
     "output_type": "execute_result"
    }
   ],
   "source": [
    "data.head(1)"
   ]
  },
  {
   "cell_type": "code",
   "execution_count": 55,
   "metadata": {},
   "outputs": [
    {
     "data": {
      "text/plain": [
       "회차\n",
       "1     True\n",
       "2     True\n",
       "3     True\n",
       "4    False\n",
       "5     True\n",
       "6    False\n",
       "7    False\n",
       "8    False\n",
       "9    False\n",
       "Name: 담당, dtype: bool"
      ]
     },
     "execution_count": 55,
     "metadata": {},
     "output_type": "execute_result"
    }
   ],
   "source": [
    "data['담당'] == '김지수'"
   ]
  },
  {
   "cell_type": "code",
   "execution_count": 54,
   "metadata": {},
   "outputs": [
    {
     "data": {
      "text/html": [
       "<div>\n",
       "<style scoped>\n",
       "    .dataframe tbody tr th:only-of-type {\n",
       "        vertical-align: middle;\n",
       "    }\n",
       "\n",
       "    .dataframe tbody tr th {\n",
       "        vertical-align: top;\n",
       "    }\n",
       "\n",
       "    .dataframe thead th {\n",
       "        text-align: right;\n",
       "    }\n",
       "</style>\n",
       "<table border=\"1\" class=\"dataframe\">\n",
       "  <thead>\n",
       "    <tr style=\"text-align: right;\">\n",
       "      <th></th>\n",
       "      <th>이름</th>\n",
       "      <th>측정일</th>\n",
       "      <th>몸무게</th>\n",
       "      <th>단위</th>\n",
       "      <th>담당</th>\n",
       "      <th>지점</th>\n",
       "    </tr>\n",
       "    <tr>\n",
       "      <th>회차</th>\n",
       "      <th></th>\n",
       "      <th></th>\n",
       "      <th></th>\n",
       "      <th></th>\n",
       "      <th></th>\n",
       "      <th></th>\n",
       "    </tr>\n",
       "  </thead>\n",
       "  <tbody>\n",
       "    <tr>\n",
       "      <td>1</td>\n",
       "      <td>강성희</td>\n",
       "      <td>2019-01-01</td>\n",
       "      <td>76.4</td>\n",
       "      <td>kg</td>\n",
       "      <td>김지수</td>\n",
       "      <td>강남</td>\n",
       "    </tr>\n",
       "    <tr>\n",
       "      <td>2</td>\n",
       "      <td>강성희</td>\n",
       "      <td>2019-01-02</td>\n",
       "      <td>75.7</td>\n",
       "      <td>kg</td>\n",
       "      <td>김지수</td>\n",
       "      <td>강남</td>\n",
       "    </tr>\n",
       "    <tr>\n",
       "      <td>3</td>\n",
       "      <td>강성희</td>\n",
       "      <td>2019-01-03</td>\n",
       "      <td>76.0</td>\n",
       "      <td>kg</td>\n",
       "      <td>김지수</td>\n",
       "      <td>강남</td>\n",
       "    </tr>\n",
       "    <tr>\n",
       "      <td>5</td>\n",
       "      <td>강성희</td>\n",
       "      <td>2019-01-05</td>\n",
       "      <td>76.2</td>\n",
       "      <td>kg</td>\n",
       "      <td>김지수</td>\n",
       "      <td>강남</td>\n",
       "    </tr>\n",
       "  </tbody>\n",
       "</table>\n",
       "</div>"
      ],
      "text/plain": [
       "     이름         측정일   몸무게  단위   담당  지점\n",
       "회차                                    \n",
       "1   강성희  2019-01-01  76.4  kg  김지수  강남\n",
       "2   강성희  2019-01-02  75.7  kg  김지수  강남\n",
       "3   강성희  2019-01-03  76.0  kg  김지수  강남\n",
       "5   강성희  2019-01-05  76.2  kg  김지수  강남"
      ]
     },
     "execution_count": 54,
     "metadata": {},
     "output_type": "execute_result"
    }
   ],
   "source": [
    "data[data['담당'] == '김지수']"
   ]
  },
  {
   "cell_type": "code",
   "execution_count": 56,
   "metadata": {},
   "outputs": [
    {
     "data": {
      "text/plain": [
       "회차\n",
       "1     True\n",
       "2     True\n",
       "3     True\n",
       "4    False\n",
       "5     True\n",
       "6    False\n",
       "7    False\n",
       "8    False\n",
       "9    False\n",
       "Name: 지점, dtype: bool"
      ]
     },
     "execution_count": 56,
     "metadata": {},
     "output_type": "execute_result"
    }
   ],
   "source": [
    "data['지점'] == '강남'"
   ]
  },
  {
   "cell_type": "code",
   "execution_count": 57,
   "metadata": {},
   "outputs": [
    {
     "data": {
      "text/plain": [
       "회차\n",
       "1    False\n",
       "2    False\n",
       "3    False\n",
       "4     True\n",
       "5    False\n",
       "6     True\n",
       "7     True\n",
       "8     True\n",
       "9     True\n",
       "Name: 지점, dtype: bool"
      ]
     },
     "execution_count": 57,
     "metadata": {},
     "output_type": "execute_result"
    }
   ],
   "source": [
    "data['지점'] != '강남'"
   ]
  },
  {
   "cell_type": "code",
   "execution_count": 58,
   "metadata": {},
   "outputs": [
    {
     "data": {
      "text/html": [
       "<div>\n",
       "<style scoped>\n",
       "    .dataframe tbody tr th:only-of-type {\n",
       "        vertical-align: middle;\n",
       "    }\n",
       "\n",
       "    .dataframe tbody tr th {\n",
       "        vertical-align: top;\n",
       "    }\n",
       "\n",
       "    .dataframe thead th {\n",
       "        text-align: right;\n",
       "    }\n",
       "</style>\n",
       "<table border=\"1\" class=\"dataframe\">\n",
       "  <thead>\n",
       "    <tr style=\"text-align: right;\">\n",
       "      <th></th>\n",
       "      <th>이름</th>\n",
       "      <th>측정일</th>\n",
       "      <th>몸무게</th>\n",
       "      <th>단위</th>\n",
       "      <th>담당</th>\n",
       "      <th>지점</th>\n",
       "    </tr>\n",
       "    <tr>\n",
       "      <th>회차</th>\n",
       "      <th></th>\n",
       "      <th></th>\n",
       "      <th></th>\n",
       "      <th></th>\n",
       "      <th></th>\n",
       "      <th></th>\n",
       "    </tr>\n",
       "  </thead>\n",
       "  <tbody>\n",
       "    <tr>\n",
       "      <td>4</td>\n",
       "      <td>강성희</td>\n",
       "      <td>2019-01-04</td>\n",
       "      <td>NaN</td>\n",
       "      <td>kg</td>\n",
       "      <td>최재우</td>\n",
       "      <td>여의도</td>\n",
       "    </tr>\n",
       "    <tr>\n",
       "      <td>6</td>\n",
       "      <td>강성희</td>\n",
       "      <td>2019-01-06</td>\n",
       "      <td>75.7</td>\n",
       "      <td>kg</td>\n",
       "      <td>최재우</td>\n",
       "      <td>여의도</td>\n",
       "    </tr>\n",
       "    <tr>\n",
       "      <td>7</td>\n",
       "      <td>강성희</td>\n",
       "      <td>2019-01-07</td>\n",
       "      <td>NaN</td>\n",
       "      <td>kg</td>\n",
       "      <td>최재우</td>\n",
       "      <td>여의도</td>\n",
       "    </tr>\n",
       "    <tr>\n",
       "      <td>8</td>\n",
       "      <td>강성희</td>\n",
       "      <td>2019-01-08</td>\n",
       "      <td>NaN</td>\n",
       "      <td>kg</td>\n",
       "      <td>김민철</td>\n",
       "      <td>여의도</td>\n",
       "    </tr>\n",
       "    <tr>\n",
       "      <td>9</td>\n",
       "      <td>강성희</td>\n",
       "      <td>2019-01-09</td>\n",
       "      <td>75.0</td>\n",
       "      <td>kg</td>\n",
       "      <td>김민철</td>\n",
       "      <td>여의도</td>\n",
       "    </tr>\n",
       "  </tbody>\n",
       "</table>\n",
       "</div>"
      ],
      "text/plain": [
       "     이름         측정일   몸무게  단위   담당   지점\n",
       "회차                                     \n",
       "4   강성희  2019-01-04   NaN  kg  최재우  여의도\n",
       "6   강성희  2019-01-06  75.7  kg  최재우  여의도\n",
       "7   강성희  2019-01-07   NaN  kg  최재우  여의도\n",
       "8   강성희  2019-01-08   NaN  kg  김민철  여의도\n",
       "9   강성희  2019-01-09  75.0  kg  김민철  여의도"
      ]
     },
     "execution_count": 58,
     "metadata": {},
     "output_type": "execute_result"
    }
   ],
   "source": [
    "data[data['지점'] != '강남']"
   ]
  },
  {
   "cell_type": "code",
   "execution_count": 59,
   "metadata": {},
   "outputs": [
    {
     "data": {
      "text/html": [
       "<div>\n",
       "<style scoped>\n",
       "    .dataframe tbody tr th:only-of-type {\n",
       "        vertical-align: middle;\n",
       "    }\n",
       "\n",
       "    .dataframe tbody tr th {\n",
       "        vertical-align: top;\n",
       "    }\n",
       "\n",
       "    .dataframe thead th {\n",
       "        text-align: right;\n",
       "    }\n",
       "</style>\n",
       "<table border=\"1\" class=\"dataframe\">\n",
       "  <thead>\n",
       "    <tr style=\"text-align: right;\">\n",
       "      <th></th>\n",
       "      <th>이름</th>\n",
       "      <th>측정일</th>\n",
       "      <th>몸무게</th>\n",
       "      <th>단위</th>\n",
       "      <th>담당</th>\n",
       "      <th>지점</th>\n",
       "    </tr>\n",
       "    <tr>\n",
       "      <th>회차</th>\n",
       "      <th></th>\n",
       "      <th></th>\n",
       "      <th></th>\n",
       "      <th></th>\n",
       "      <th></th>\n",
       "      <th></th>\n",
       "    </tr>\n",
       "  </thead>\n",
       "  <tbody>\n",
       "    <tr>\n",
       "      <td>1</td>\n",
       "      <td>강성희</td>\n",
       "      <td>2019-01-01</td>\n",
       "      <td>76.4</td>\n",
       "      <td>kg</td>\n",
       "      <td>김지수</td>\n",
       "      <td>강남</td>\n",
       "    </tr>\n",
       "    <tr>\n",
       "      <td>3</td>\n",
       "      <td>강성희</td>\n",
       "      <td>2019-01-03</td>\n",
       "      <td>76.0</td>\n",
       "      <td>kg</td>\n",
       "      <td>김지수</td>\n",
       "      <td>강남</td>\n",
       "    </tr>\n",
       "    <tr>\n",
       "      <td>5</td>\n",
       "      <td>강성희</td>\n",
       "      <td>2019-01-05</td>\n",
       "      <td>76.2</td>\n",
       "      <td>kg</td>\n",
       "      <td>김지수</td>\n",
       "      <td>강남</td>\n",
       "    </tr>\n",
       "  </tbody>\n",
       "</table>\n",
       "</div>"
      ],
      "text/plain": [
       "     이름         측정일   몸무게  단위   담당  지점\n",
       "회차                                    \n",
       "1   강성희  2019-01-01  76.4  kg  김지수  강남\n",
       "3   강성희  2019-01-03  76.0  kg  김지수  강남\n",
       "5   강성희  2019-01-05  76.2  kg  김지수  강남"
      ]
     },
     "execution_count": 59,
     "metadata": {},
     "output_type": "execute_result"
    }
   ],
   "source": [
    "data[data['몸무게'] > 76]   # 검색 -> True/False -> filter"
   ]
  },
  {
   "cell_type": "code",
   "execution_count": 60,
   "metadata": {},
   "outputs": [
    {
     "data": {
      "text/plain": [
       "회차\n",
       "1     True\n",
       "2    False\n",
       "3    False\n",
       "4    False\n",
       "5     True\n",
       "6    False\n",
       "7    False\n",
       "8    False\n",
       "9    False\n",
       "dtype: bool"
      ]
     },
     "execution_count": 60,
     "metadata": {},
     "output_type": "execute_result"
    }
   ],
   "source": [
    "(data['담당'] == '김지수') & (data['몸무게'] > 76)"
   ]
  },
  {
   "cell_type": "code",
   "execution_count": 61,
   "metadata": {},
   "outputs": [
    {
     "data": {
      "text/html": [
       "<div>\n",
       "<style scoped>\n",
       "    .dataframe tbody tr th:only-of-type {\n",
       "        vertical-align: middle;\n",
       "    }\n",
       "\n",
       "    .dataframe tbody tr th {\n",
       "        vertical-align: top;\n",
       "    }\n",
       "\n",
       "    .dataframe thead th {\n",
       "        text-align: right;\n",
       "    }\n",
       "</style>\n",
       "<table border=\"1\" class=\"dataframe\">\n",
       "  <thead>\n",
       "    <tr style=\"text-align: right;\">\n",
       "      <th></th>\n",
       "      <th>이름</th>\n",
       "      <th>측정일</th>\n",
       "      <th>몸무게</th>\n",
       "      <th>단위</th>\n",
       "      <th>담당</th>\n",
       "      <th>지점</th>\n",
       "    </tr>\n",
       "    <tr>\n",
       "      <th>회차</th>\n",
       "      <th></th>\n",
       "      <th></th>\n",
       "      <th></th>\n",
       "      <th></th>\n",
       "      <th></th>\n",
       "      <th></th>\n",
       "    </tr>\n",
       "  </thead>\n",
       "  <tbody>\n",
       "    <tr>\n",
       "      <td>1</td>\n",
       "      <td>강성희</td>\n",
       "      <td>2019-01-01</td>\n",
       "      <td>76.4</td>\n",
       "      <td>kg</td>\n",
       "      <td>김지수</td>\n",
       "      <td>강남</td>\n",
       "    </tr>\n",
       "    <tr>\n",
       "      <td>5</td>\n",
       "      <td>강성희</td>\n",
       "      <td>2019-01-05</td>\n",
       "      <td>76.2</td>\n",
       "      <td>kg</td>\n",
       "      <td>김지수</td>\n",
       "      <td>강남</td>\n",
       "    </tr>\n",
       "  </tbody>\n",
       "</table>\n",
       "</div>"
      ],
      "text/plain": [
       "     이름         측정일   몸무게  단위   담당  지점\n",
       "회차                                    \n",
       "1   강성희  2019-01-01  76.4  kg  김지수  강남\n",
       "5   강성희  2019-01-05  76.2  kg  김지수  강남"
      ]
     },
     "execution_count": 61,
     "metadata": {},
     "output_type": "execute_result"
    }
   ],
   "source": [
    "data[(data['담당'] == '김지수') & (data['몸무게'] > 76)]"
   ]
  },
  {
   "cell_type": "code",
   "execution_count": 67,
   "metadata": {},
   "outputs": [
    {
     "data": {
      "text/html": [
       "<div>\n",
       "<style scoped>\n",
       "    .dataframe tbody tr th:only-of-type {\n",
       "        vertical-align: middle;\n",
       "    }\n",
       "\n",
       "    .dataframe tbody tr th {\n",
       "        vertical-align: top;\n",
       "    }\n",
       "\n",
       "    .dataframe thead th {\n",
       "        text-align: right;\n",
       "    }\n",
       "</style>\n",
       "<table border=\"1\" class=\"dataframe\">\n",
       "  <thead>\n",
       "    <tr style=\"text-align: right;\">\n",
       "      <th></th>\n",
       "      <th>이름</th>\n",
       "      <th>측정일</th>\n",
       "      <th>몸무게</th>\n",
       "      <th>단위</th>\n",
       "      <th>담당</th>\n",
       "      <th>지점</th>\n",
       "    </tr>\n",
       "    <tr>\n",
       "      <th>회차</th>\n",
       "      <th></th>\n",
       "      <th></th>\n",
       "      <th></th>\n",
       "      <th></th>\n",
       "      <th></th>\n",
       "      <th></th>\n",
       "    </tr>\n",
       "  </thead>\n",
       "  <tbody>\n",
       "    <tr>\n",
       "      <td>1</td>\n",
       "      <td>강성희</td>\n",
       "      <td>2019-01-01</td>\n",
       "      <td>76.4</td>\n",
       "      <td>kg</td>\n",
       "      <td>김지수</td>\n",
       "      <td>강남</td>\n",
       "    </tr>\n",
       "    <tr>\n",
       "      <td>2</td>\n",
       "      <td>강성희</td>\n",
       "      <td>2019-01-02</td>\n",
       "      <td>75.7</td>\n",
       "      <td>kg</td>\n",
       "      <td>김지수</td>\n",
       "      <td>강남</td>\n",
       "    </tr>\n",
       "    <tr>\n",
       "      <td>3</td>\n",
       "      <td>강성희</td>\n",
       "      <td>2019-01-03</td>\n",
       "      <td>76.0</td>\n",
       "      <td>kg</td>\n",
       "      <td>김지수</td>\n",
       "      <td>강남</td>\n",
       "    </tr>\n",
       "    <tr>\n",
       "      <td>5</td>\n",
       "      <td>강성희</td>\n",
       "      <td>2019-01-05</td>\n",
       "      <td>76.2</td>\n",
       "      <td>kg</td>\n",
       "      <td>김지수</td>\n",
       "      <td>강남</td>\n",
       "    </tr>\n",
       "  </tbody>\n",
       "</table>\n",
       "</div>"
      ],
      "text/plain": [
       "     이름         측정일   몸무게  단위   담당  지점\n",
       "회차                                    \n",
       "1   강성희  2019-01-01  76.4  kg  김지수  강남\n",
       "2   강성희  2019-01-02  75.7  kg  김지수  강남\n",
       "3   강성희  2019-01-03  76.0  kg  김지수  강남\n",
       "5   강성희  2019-01-05  76.2  kg  김지수  강남"
      ]
     },
     "execution_count": 67,
     "metadata": {},
     "output_type": "execute_result"
    }
   ],
   "source": [
    "# data[(data['담당'] == '김지수') & (data['몸무게'] > 76)]\n",
    "kim = (data['담당'] == '김지수')\n",
    "over_weight = (data['몸무게'] > 76)\n",
    "kim & over_weight\n",
    "data[kim&over_weight]\n",
    "data[kim|over_weight]"
   ]
  },
  {
   "cell_type": "code",
   "execution_count": 68,
   "metadata": {},
   "outputs": [
    {
     "data": {
      "text/html": [
       "<div>\n",
       "<style scoped>\n",
       "    .dataframe tbody tr th:only-of-type {\n",
       "        vertical-align: middle;\n",
       "    }\n",
       "\n",
       "    .dataframe tbody tr th {\n",
       "        vertical-align: top;\n",
       "    }\n",
       "\n",
       "    .dataframe thead th {\n",
       "        text-align: right;\n",
       "    }\n",
       "</style>\n",
       "<table border=\"1\" class=\"dataframe\">\n",
       "  <thead>\n",
       "    <tr style=\"text-align: right;\">\n",
       "      <th></th>\n",
       "      <th>이름</th>\n",
       "      <th>측정일</th>\n",
       "      <th>몸무게</th>\n",
       "      <th>단위</th>\n",
       "      <th>담당</th>\n",
       "      <th>지점</th>\n",
       "    </tr>\n",
       "    <tr>\n",
       "      <th>회차</th>\n",
       "      <th></th>\n",
       "      <th></th>\n",
       "      <th></th>\n",
       "      <th></th>\n",
       "      <th></th>\n",
       "      <th></th>\n",
       "    </tr>\n",
       "  </thead>\n",
       "  <tbody>\n",
       "    <tr>\n",
       "      <td>1</td>\n",
       "      <td>강성희</td>\n",
       "      <td>2019-01-01</td>\n",
       "      <td>76.4</td>\n",
       "      <td>kg</td>\n",
       "      <td>김지수</td>\n",
       "      <td>강남</td>\n",
       "    </tr>\n",
       "    <tr>\n",
       "      <td>2</td>\n",
       "      <td>강성희</td>\n",
       "      <td>2019-01-02</td>\n",
       "      <td>75.7</td>\n",
       "      <td>kg</td>\n",
       "      <td>김지수</td>\n",
       "      <td>강남</td>\n",
       "    </tr>\n",
       "    <tr>\n",
       "      <td>3</td>\n",
       "      <td>강성희</td>\n",
       "      <td>2019-01-03</td>\n",
       "      <td>76.0</td>\n",
       "      <td>kg</td>\n",
       "      <td>김지수</td>\n",
       "      <td>강남</td>\n",
       "    </tr>\n",
       "    <tr>\n",
       "      <td>5</td>\n",
       "      <td>강성희</td>\n",
       "      <td>2019-01-05</td>\n",
       "      <td>76.2</td>\n",
       "      <td>kg</td>\n",
       "      <td>김지수</td>\n",
       "      <td>강남</td>\n",
       "    </tr>\n",
       "  </tbody>\n",
       "</table>\n",
       "</div>"
      ],
      "text/plain": [
       "     이름         측정일   몸무게  단위   담당  지점\n",
       "회차                                    \n",
       "1   강성희  2019-01-01  76.4  kg  김지수  강남\n",
       "2   강성희  2019-01-02  75.7  kg  김지수  강남\n",
       "3   강성희  2019-01-03  76.0  kg  김지수  강남\n",
       "5   강성희  2019-01-05  76.2  kg  김지수  강남"
      ]
     },
     "execution_count": 68,
     "metadata": {},
     "output_type": "execute_result"
    }
   ],
   "source": [
    "data.loc[kim|over_weight]   # loc 붙이나 안 붙이나 결과는 동일하다"
   ]
  },
  {
   "cell_type": "code",
   "execution_count": 71,
   "metadata": {},
   "outputs": [
    {
     "data": {
      "text/html": [
       "<div>\n",
       "<style scoped>\n",
       "    .dataframe tbody tr th:only-of-type {\n",
       "        vertical-align: middle;\n",
       "    }\n",
       "\n",
       "    .dataframe tbody tr th {\n",
       "        vertical-align: top;\n",
       "    }\n",
       "\n",
       "    .dataframe thead th {\n",
       "        text-align: right;\n",
       "    }\n",
       "</style>\n",
       "<table border=\"1\" class=\"dataframe\">\n",
       "  <thead>\n",
       "    <tr style=\"text-align: right;\">\n",
       "      <th></th>\n",
       "      <th>이름</th>\n",
       "      <th>지점</th>\n",
       "    </tr>\n",
       "    <tr>\n",
       "      <th>회차</th>\n",
       "      <th></th>\n",
       "      <th></th>\n",
       "    </tr>\n",
       "  </thead>\n",
       "  <tbody>\n",
       "    <tr>\n",
       "      <td>1</td>\n",
       "      <td>강성희</td>\n",
       "      <td>강남</td>\n",
       "    </tr>\n",
       "    <tr>\n",
       "      <td>2</td>\n",
       "      <td>강성희</td>\n",
       "      <td>강남</td>\n",
       "    </tr>\n",
       "    <tr>\n",
       "      <td>3</td>\n",
       "      <td>강성희</td>\n",
       "      <td>강남</td>\n",
       "    </tr>\n",
       "    <tr>\n",
       "      <td>5</td>\n",
       "      <td>강성희</td>\n",
       "      <td>강남</td>\n",
       "    </tr>\n",
       "  </tbody>\n",
       "</table>\n",
       "</div>"
      ],
      "text/plain": [
       "     이름  지점\n",
       "회차         \n",
       "1   강성희  강남\n",
       "2   강성희  강남\n",
       "3   강성희  강남\n",
       "5   강성희  강남"
      ]
     },
     "execution_count": 71,
     "metadata": {},
     "output_type": "execute_result"
    }
   ],
   "source": [
    "data.loc[kim|over_weight, ['이름','지점']]\n",
    "\n",
    "col = ['이름','지점']\n",
    "data.loc[kim|over_weight, col]"
   ]
  },
  {
   "cell_type": "code",
   "execution_count": 72,
   "metadata": {},
   "outputs": [
    {
     "data": {
      "text/plain": [
       "회차\n",
       "1    False\n",
       "2    False\n",
       "3    False\n",
       "4     True\n",
       "5    False\n",
       "6    False\n",
       "7     True\n",
       "8     True\n",
       "9    False\n",
       "Name: 몸무게, dtype: bool"
      ]
     },
     "execution_count": 72,
     "metadata": {},
     "output_type": "execute_result"
    }
   ],
   "source": [
    "data['몸무게'].isnull()"
   ]
  },
  {
   "cell_type": "code",
   "execution_count": 73,
   "metadata": {},
   "outputs": [
    {
     "data": {
      "text/html": [
       "<div>\n",
       "<style scoped>\n",
       "    .dataframe tbody tr th:only-of-type {\n",
       "        vertical-align: middle;\n",
       "    }\n",
       "\n",
       "    .dataframe tbody tr th {\n",
       "        vertical-align: top;\n",
       "    }\n",
       "\n",
       "    .dataframe thead th {\n",
       "        text-align: right;\n",
       "    }\n",
       "</style>\n",
       "<table border=\"1\" class=\"dataframe\">\n",
       "  <thead>\n",
       "    <tr style=\"text-align: right;\">\n",
       "      <th></th>\n",
       "      <th>이름</th>\n",
       "      <th>측정일</th>\n",
       "      <th>몸무게</th>\n",
       "      <th>단위</th>\n",
       "      <th>담당</th>\n",
       "      <th>지점</th>\n",
       "    </tr>\n",
       "    <tr>\n",
       "      <th>회차</th>\n",
       "      <th></th>\n",
       "      <th></th>\n",
       "      <th></th>\n",
       "      <th></th>\n",
       "      <th></th>\n",
       "      <th></th>\n",
       "    </tr>\n",
       "  </thead>\n",
       "  <tbody>\n",
       "    <tr>\n",
       "      <td>4</td>\n",
       "      <td>강성희</td>\n",
       "      <td>2019-01-04</td>\n",
       "      <td>NaN</td>\n",
       "      <td>kg</td>\n",
       "      <td>최재우</td>\n",
       "      <td>여의도</td>\n",
       "    </tr>\n",
       "    <tr>\n",
       "      <td>7</td>\n",
       "      <td>강성희</td>\n",
       "      <td>2019-01-07</td>\n",
       "      <td>NaN</td>\n",
       "      <td>kg</td>\n",
       "      <td>최재우</td>\n",
       "      <td>여의도</td>\n",
       "    </tr>\n",
       "    <tr>\n",
       "      <td>8</td>\n",
       "      <td>강성희</td>\n",
       "      <td>2019-01-08</td>\n",
       "      <td>NaN</td>\n",
       "      <td>kg</td>\n",
       "      <td>김민철</td>\n",
       "      <td>여의도</td>\n",
       "    </tr>\n",
       "  </tbody>\n",
       "</table>\n",
       "</div>"
      ],
      "text/plain": [
       "     이름         측정일  몸무게  단위   담당   지점\n",
       "회차                                    \n",
       "4   강성희  2019-01-04  NaN  kg  최재우  여의도\n",
       "7   강성희  2019-01-07  NaN  kg  최재우  여의도\n",
       "8   강성희  2019-01-08  NaN  kg  김민철  여의도"
      ]
     },
     "execution_count": 73,
     "metadata": {},
     "output_type": "execute_result"
    }
   ],
   "source": [
    "data[data['몸무게'].isnull()]"
   ]
  },
  {
   "cell_type": "code",
   "execution_count": 76,
   "metadata": {},
   "outputs": [
    {
     "data": {
      "text/html": [
       "<div>\n",
       "<style scoped>\n",
       "    .dataframe tbody tr th:only-of-type {\n",
       "        vertical-align: middle;\n",
       "    }\n",
       "\n",
       "    .dataframe tbody tr th {\n",
       "        vertical-align: top;\n",
       "    }\n",
       "\n",
       "    .dataframe thead th {\n",
       "        text-align: right;\n",
       "    }\n",
       "</style>\n",
       "<table border=\"1\" class=\"dataframe\">\n",
       "  <thead>\n",
       "    <tr style=\"text-align: right;\">\n",
       "      <th></th>\n",
       "      <th>이름</th>\n",
       "      <th>몸무게</th>\n",
       "      <th>지점</th>\n",
       "    </tr>\n",
       "    <tr>\n",
       "      <th>회차</th>\n",
       "      <th></th>\n",
       "      <th></th>\n",
       "      <th></th>\n",
       "    </tr>\n",
       "  </thead>\n",
       "  <tbody>\n",
       "    <tr>\n",
       "      <td>1</td>\n",
       "      <td>강성희</td>\n",
       "      <td>76.4</td>\n",
       "      <td>강남</td>\n",
       "    </tr>\n",
       "    <tr>\n",
       "      <td>2</td>\n",
       "      <td>강성희</td>\n",
       "      <td>75.7</td>\n",
       "      <td>강남</td>\n",
       "    </tr>\n",
       "    <tr>\n",
       "      <td>3</td>\n",
       "      <td>강성희</td>\n",
       "      <td>76.0</td>\n",
       "      <td>강남</td>\n",
       "    </tr>\n",
       "    <tr>\n",
       "      <td>5</td>\n",
       "      <td>강성희</td>\n",
       "      <td>76.2</td>\n",
       "      <td>강남</td>\n",
       "    </tr>\n",
       "    <tr>\n",
       "      <td>6</td>\n",
       "      <td>강성희</td>\n",
       "      <td>75.7</td>\n",
       "      <td>여의도</td>\n",
       "    </tr>\n",
       "    <tr>\n",
       "      <td>9</td>\n",
       "      <td>강성희</td>\n",
       "      <td>75.0</td>\n",
       "      <td>여의도</td>\n",
       "    </tr>\n",
       "  </tbody>\n",
       "</table>\n",
       "</div>"
      ],
      "text/plain": [
       "     이름   몸무게   지점\n",
       "회차                \n",
       "1   강성희  76.4   강남\n",
       "2   강성희  75.7   강남\n",
       "3   강성희  76.0   강남\n",
       "5   강성희  76.2   강남\n",
       "6   강성희  75.7  여의도\n",
       "9   강성희  75.0  여의도"
      ]
     },
     "execution_count": 76,
     "metadata": {},
     "output_type": "execute_result"
    }
   ],
   "source": [
    "cols = ['이름', '몸무게', '지점']\n",
    "data.loc[data['몸무게'].isnull(), cols]\n",
    "data.loc[data['몸무게'].notnull(), cols]\n",
    "data.loc[~data['몸무게'].isnull(), cols]"
   ]
  },
  {
   "cell_type": "markdown",
   "metadata": {},
   "source": [
    "## 행열 추가/수정"
   ]
  },
  {
   "cell_type": "code",
   "execution_count": 84,
   "metadata": {},
   "outputs": [
    {
     "data": {
      "text/html": [
       "<div>\n",
       "<style scoped>\n",
       "    .dataframe tbody tr th:only-of-type {\n",
       "        vertical-align: middle;\n",
       "    }\n",
       "\n",
       "    .dataframe tbody tr th {\n",
       "        vertical-align: top;\n",
       "    }\n",
       "\n",
       "    .dataframe thead th {\n",
       "        text-align: right;\n",
       "    }\n",
       "</style>\n",
       "<table border=\"1\" class=\"dataframe\">\n",
       "  <thead>\n",
       "    <tr style=\"text-align: right;\">\n",
       "      <th></th>\n",
       "      <th>이름</th>\n",
       "      <th>측정일</th>\n",
       "      <th>몸무게</th>\n",
       "      <th>단위</th>\n",
       "      <th>담당</th>\n",
       "      <th>지점</th>\n",
       "      <th>날씨</th>\n",
       "    </tr>\n",
       "    <tr>\n",
       "      <th>회차</th>\n",
       "      <th></th>\n",
       "      <th></th>\n",
       "      <th></th>\n",
       "      <th></th>\n",
       "      <th></th>\n",
       "      <th></th>\n",
       "      <th></th>\n",
       "    </tr>\n",
       "  </thead>\n",
       "  <tbody>\n",
       "    <tr>\n",
       "      <td>1</td>\n",
       "      <td>강성희</td>\n",
       "      <td>2019-01-01</td>\n",
       "      <td>76.4</td>\n",
       "      <td>kg</td>\n",
       "      <td>김지수</td>\n",
       "      <td>강남</td>\n",
       "      <td>나쁨</td>\n",
       "    </tr>\n",
       "    <tr>\n",
       "      <td>2</td>\n",
       "      <td>강성희</td>\n",
       "      <td>2019-01-02</td>\n",
       "      <td>75.7</td>\n",
       "      <td>kg</td>\n",
       "      <td>김지수</td>\n",
       "      <td>강남</td>\n",
       "      <td>나쁨</td>\n",
       "    </tr>\n",
       "    <tr>\n",
       "      <td>3</td>\n",
       "      <td>강성희</td>\n",
       "      <td>2019-01-03</td>\n",
       "      <td>76.0</td>\n",
       "      <td>kg</td>\n",
       "      <td>김지수</td>\n",
       "      <td>강남</td>\n",
       "      <td>나쁨</td>\n",
       "    </tr>\n",
       "    <tr>\n",
       "      <td>4</td>\n",
       "      <td>강성희</td>\n",
       "      <td>2019-01-04</td>\n",
       "      <td>NaN</td>\n",
       "      <td>kg</td>\n",
       "      <td>최재우</td>\n",
       "      <td>여의도</td>\n",
       "      <td>나쁨</td>\n",
       "    </tr>\n",
       "    <tr>\n",
       "      <td>5</td>\n",
       "      <td>강성희</td>\n",
       "      <td>2019-01-05</td>\n",
       "      <td>76.2</td>\n",
       "      <td>kg</td>\n",
       "      <td>김지수</td>\n",
       "      <td>강남</td>\n",
       "      <td>나쁨</td>\n",
       "    </tr>\n",
       "    <tr>\n",
       "      <td>6</td>\n",
       "      <td>강성희</td>\n",
       "      <td>2019-01-06</td>\n",
       "      <td>75.7</td>\n",
       "      <td>kg</td>\n",
       "      <td>최재우</td>\n",
       "      <td>여의도</td>\n",
       "      <td>나쁨</td>\n",
       "    </tr>\n",
       "    <tr>\n",
       "      <td>7</td>\n",
       "      <td>강성희</td>\n",
       "      <td>2019-01-07</td>\n",
       "      <td>NaN</td>\n",
       "      <td>kg</td>\n",
       "      <td>최재우</td>\n",
       "      <td>여의도</td>\n",
       "      <td>나쁨</td>\n",
       "    </tr>\n",
       "    <tr>\n",
       "      <td>8</td>\n",
       "      <td>강성희</td>\n",
       "      <td>2019-01-08</td>\n",
       "      <td>NaN</td>\n",
       "      <td>kg</td>\n",
       "      <td>김민철</td>\n",
       "      <td>여의도</td>\n",
       "      <td>나쁨</td>\n",
       "    </tr>\n",
       "    <tr>\n",
       "      <td>9</td>\n",
       "      <td>강성희</td>\n",
       "      <td>2019-01-09</td>\n",
       "      <td>75.0</td>\n",
       "      <td>kg</td>\n",
       "      <td>김민철</td>\n",
       "      <td>여의도</td>\n",
       "      <td>나쁨</td>\n",
       "    </tr>\n",
       "  </tbody>\n",
       "</table>\n",
       "</div>"
      ],
      "text/plain": [
       "     이름         측정일   몸무게  단위   담당   지점  날씨\n",
       "회차                                         \n",
       "1   강성희  2019-01-01  76.4  kg  김지수   강남  나쁨\n",
       "2   강성희  2019-01-02  75.7  kg  김지수   강남  나쁨\n",
       "3   강성희  2019-01-03  76.0  kg  김지수   강남  나쁨\n",
       "4   강성희  2019-01-04   NaN  kg  최재우  여의도  나쁨\n",
       "5   강성희  2019-01-05  76.2  kg  김지수   강남  나쁨\n",
       "6   강성희  2019-01-06  75.7  kg  최재우  여의도  나쁨\n",
       "7   강성희  2019-01-07   NaN  kg  최재우  여의도  나쁨\n",
       "8   강성희  2019-01-08   NaN  kg  김민철  여의도  나쁨\n",
       "9   강성희  2019-01-09  75.0  kg  김민철  여의도  나쁨"
      ]
     },
     "execution_count": 84,
     "metadata": {},
     "output_type": "execute_result"
    }
   ],
   "source": [
    "data['날씨'] = '좋음'\n",
    "data\n",
    "data['날씨'] = '나쁨'\n",
    "data"
   ]
  },
  {
   "cell_type": "code",
   "execution_count": 86,
   "metadata": {},
   "outputs": [
    {
     "data": {
      "text/html": [
       "<div>\n",
       "<style scoped>\n",
       "    .dataframe tbody tr th:only-of-type {\n",
       "        vertical-align: middle;\n",
       "    }\n",
       "\n",
       "    .dataframe tbody tr th {\n",
       "        vertical-align: top;\n",
       "    }\n",
       "\n",
       "    .dataframe thead th {\n",
       "        text-align: right;\n",
       "    }\n",
       "</style>\n",
       "<table border=\"1\" class=\"dataframe\">\n",
       "  <thead>\n",
       "    <tr style=\"text-align: right;\">\n",
       "      <th></th>\n",
       "      <th>이름</th>\n",
       "      <th>측정일</th>\n",
       "      <th>몸무게</th>\n",
       "      <th>단위</th>\n",
       "      <th>담당</th>\n",
       "      <th>지점</th>\n",
       "      <th>날씨</th>\n",
       "      <th>결제여부</th>\n",
       "    </tr>\n",
       "    <tr>\n",
       "      <th>회차</th>\n",
       "      <th></th>\n",
       "      <th></th>\n",
       "      <th></th>\n",
       "      <th></th>\n",
       "      <th></th>\n",
       "      <th></th>\n",
       "      <th></th>\n",
       "      <th></th>\n",
       "    </tr>\n",
       "  </thead>\n",
       "  <tbody>\n",
       "    <tr>\n",
       "      <td>1</td>\n",
       "      <td>강성희</td>\n",
       "      <td>2019-01-01</td>\n",
       "      <td>76.4</td>\n",
       "      <td>kg</td>\n",
       "      <td>김지수</td>\n",
       "      <td>강남</td>\n",
       "      <td>나쁨</td>\n",
       "      <td>True</td>\n",
       "    </tr>\n",
       "    <tr>\n",
       "      <td>2</td>\n",
       "      <td>강성희</td>\n",
       "      <td>2019-01-02</td>\n",
       "      <td>75.7</td>\n",
       "      <td>kg</td>\n",
       "      <td>김지수</td>\n",
       "      <td>강남</td>\n",
       "      <td>나쁨</td>\n",
       "      <td>True</td>\n",
       "    </tr>\n",
       "    <tr>\n",
       "      <td>3</td>\n",
       "      <td>강성희</td>\n",
       "      <td>2019-01-03</td>\n",
       "      <td>76.0</td>\n",
       "      <td>kg</td>\n",
       "      <td>김지수</td>\n",
       "      <td>강남</td>\n",
       "      <td>나쁨</td>\n",
       "      <td>False</td>\n",
       "    </tr>\n",
       "    <tr>\n",
       "      <td>4</td>\n",
       "      <td>강성희</td>\n",
       "      <td>2019-01-04</td>\n",
       "      <td>NaN</td>\n",
       "      <td>kg</td>\n",
       "      <td>최재우</td>\n",
       "      <td>여의도</td>\n",
       "      <td>나쁨</td>\n",
       "      <td>True</td>\n",
       "    </tr>\n",
       "    <tr>\n",
       "      <td>5</td>\n",
       "      <td>강성희</td>\n",
       "      <td>2019-01-05</td>\n",
       "      <td>76.2</td>\n",
       "      <td>kg</td>\n",
       "      <td>김지수</td>\n",
       "      <td>강남</td>\n",
       "      <td>나쁨</td>\n",
       "      <td>True</td>\n",
       "    </tr>\n",
       "    <tr>\n",
       "      <td>6</td>\n",
       "      <td>강성희</td>\n",
       "      <td>2019-01-06</td>\n",
       "      <td>75.7</td>\n",
       "      <td>kg</td>\n",
       "      <td>최재우</td>\n",
       "      <td>여의도</td>\n",
       "      <td>나쁨</td>\n",
       "      <td>True</td>\n",
       "    </tr>\n",
       "    <tr>\n",
       "      <td>7</td>\n",
       "      <td>강성희</td>\n",
       "      <td>2019-01-07</td>\n",
       "      <td>NaN</td>\n",
       "      <td>kg</td>\n",
       "      <td>최재우</td>\n",
       "      <td>여의도</td>\n",
       "      <td>나쁨</td>\n",
       "      <td>False</td>\n",
       "    </tr>\n",
       "    <tr>\n",
       "      <td>8</td>\n",
       "      <td>강성희</td>\n",
       "      <td>2019-01-08</td>\n",
       "      <td>NaN</td>\n",
       "      <td>kg</td>\n",
       "      <td>김민철</td>\n",
       "      <td>여의도</td>\n",
       "      <td>나쁨</td>\n",
       "      <td>False</td>\n",
       "    </tr>\n",
       "    <tr>\n",
       "      <td>9</td>\n",
       "      <td>강성희</td>\n",
       "      <td>2019-01-09</td>\n",
       "      <td>75.0</td>\n",
       "      <td>kg</td>\n",
       "      <td>김민철</td>\n",
       "      <td>여의도</td>\n",
       "      <td>나쁨</td>\n",
       "      <td>True</td>\n",
       "    </tr>\n",
       "  </tbody>\n",
       "</table>\n",
       "</div>"
      ],
      "text/plain": [
       "     이름         측정일   몸무게  단위   담당   지점  날씨   결제여부\n",
       "회차                                                \n",
       "1   강성희  2019-01-01  76.4  kg  김지수   강남  나쁨   True\n",
       "2   강성희  2019-01-02  75.7  kg  김지수   강남  나쁨   True\n",
       "3   강성희  2019-01-03  76.0  kg  김지수   강남  나쁨  False\n",
       "4   강성희  2019-01-04   NaN  kg  최재우  여의도  나쁨   True\n",
       "5   강성희  2019-01-05  76.2  kg  김지수   강남  나쁨   True\n",
       "6   강성희  2019-01-06  75.7  kg  최재우  여의도  나쁨   True\n",
       "7   강성희  2019-01-07   NaN  kg  최재우  여의도  나쁨  False\n",
       "8   강성희  2019-01-08   NaN  kg  김민철  여의도  나쁨  False\n",
       "9   강성희  2019-01-09  75.0  kg  김민철  여의도  나쁨   True"
      ]
     },
     "execution_count": 86,
     "metadata": {},
     "output_type": "execute_result"
    }
   ],
   "source": [
    "data['결제여부'] = [True, True, False, True, True, True, False, False, True]   # 개수가 안 맞으면 에러난다\n",
    "data"
   ]
  },
  {
   "cell_type": "code",
   "execution_count": 90,
   "metadata": {},
   "outputs": [
    {
     "data": {
      "text/html": [
       "<div>\n",
       "<style scoped>\n",
       "    .dataframe tbody tr th:only-of-type {\n",
       "        vertical-align: middle;\n",
       "    }\n",
       "\n",
       "    .dataframe tbody tr th {\n",
       "        vertical-align: top;\n",
       "    }\n",
       "\n",
       "    .dataframe thead th {\n",
       "        text-align: right;\n",
       "    }\n",
       "</style>\n",
       "<table border=\"1\" class=\"dataframe\">\n",
       "  <thead>\n",
       "    <tr style=\"text-align: right;\">\n",
       "      <th></th>\n",
       "      <th>몸무게</th>\n",
       "      <th>과체중</th>\n",
       "    </tr>\n",
       "    <tr>\n",
       "      <th>회차</th>\n",
       "      <th></th>\n",
       "      <th></th>\n",
       "    </tr>\n",
       "  </thead>\n",
       "  <tbody>\n",
       "    <tr>\n",
       "      <td>1</td>\n",
       "      <td>76.4</td>\n",
       "      <td>True</td>\n",
       "    </tr>\n",
       "    <tr>\n",
       "      <td>2</td>\n",
       "      <td>75.7</td>\n",
       "      <td>False</td>\n",
       "    </tr>\n",
       "    <tr>\n",
       "      <td>3</td>\n",
       "      <td>76.0</td>\n",
       "      <td>False</td>\n",
       "    </tr>\n",
       "    <tr>\n",
       "      <td>4</td>\n",
       "      <td>NaN</td>\n",
       "      <td>False</td>\n",
       "    </tr>\n",
       "    <tr>\n",
       "      <td>5</td>\n",
       "      <td>76.2</td>\n",
       "      <td>True</td>\n",
       "    </tr>\n",
       "  </tbody>\n",
       "</table>\n",
       "</div>"
      ],
      "text/plain": [
       "     몸무게    과체중\n",
       "회차             \n",
       "1   76.4   True\n",
       "2   75.7  False\n",
       "3   76.0  False\n",
       "4    NaN  False\n",
       "5   76.2   True"
      ]
     },
     "execution_count": 90,
     "metadata": {},
     "output_type": "execute_result"
    }
   ],
   "source": [
    "data['과체중'] = (data['몸무게'] > 76)\n",
    "cols = ['몸무게', '과체중']\n",
    "data[cols].head()"
   ]
  },
  {
   "cell_type": "code",
   "execution_count": 97,
   "metadata": {},
   "outputs": [
    {
     "data": {
      "text/html": [
       "<div>\n",
       "<style scoped>\n",
       "    .dataframe tbody tr th:only-of-type {\n",
       "        vertical-align: middle;\n",
       "    }\n",
       "\n",
       "    .dataframe tbody tr th {\n",
       "        vertical-align: top;\n",
       "    }\n",
       "\n",
       "    .dataframe thead th {\n",
       "        text-align: right;\n",
       "    }\n",
       "</style>\n",
       "<table border=\"1\" class=\"dataframe\">\n",
       "  <thead>\n",
       "    <tr style=\"text-align: right;\">\n",
       "      <th></th>\n",
       "      <th>몸무게</th>\n",
       "      <th>상태</th>\n",
       "    </tr>\n",
       "    <tr>\n",
       "      <th>회차</th>\n",
       "      <th></th>\n",
       "      <th></th>\n",
       "    </tr>\n",
       "  </thead>\n",
       "  <tbody>\n",
       "    <tr>\n",
       "      <td>1</td>\n",
       "      <td>76.4</td>\n",
       "      <td>과체중</td>\n",
       "    </tr>\n",
       "    <tr>\n",
       "      <td>2</td>\n",
       "      <td>75.7</td>\n",
       "      <td>NaN</td>\n",
       "    </tr>\n",
       "    <tr>\n",
       "      <td>3</td>\n",
       "      <td>76.0</td>\n",
       "      <td>NaN</td>\n",
       "    </tr>\n",
       "    <tr>\n",
       "      <td>4</td>\n",
       "      <td>NaN</td>\n",
       "      <td>NaN</td>\n",
       "    </tr>\n",
       "    <tr>\n",
       "      <td>5</td>\n",
       "      <td>76.2</td>\n",
       "      <td>과체중</td>\n",
       "    </tr>\n",
       "  </tbody>\n",
       "</table>\n",
       "</div>"
      ],
      "text/plain": [
       "     몸무게   상태\n",
       "회차           \n",
       "1   76.4  과체중\n",
       "2   75.7  NaN\n",
       "3   76.0  NaN\n",
       "4    NaN  NaN\n",
       "5   76.2  과체중"
      ]
     },
     "execution_count": 97,
     "metadata": {},
     "output_type": "execute_result"
    }
   ],
   "source": [
    "# 상태\n",
    "data.loc[data['몸무게'] > 76, \"상태\"] = '과체중'\n",
    "cols = ['몸무게', '상태']\n",
    "data[cols].head()"
   ]
  },
  {
   "cell_type": "code",
   "execution_count": 99,
   "metadata": {},
   "outputs": [
    {
     "data": {
      "text/html": [
       "<div>\n",
       "<style scoped>\n",
       "    .dataframe tbody tr th:only-of-type {\n",
       "        vertical-align: middle;\n",
       "    }\n",
       "\n",
       "    .dataframe tbody tr th {\n",
       "        vertical-align: top;\n",
       "    }\n",
       "\n",
       "    .dataframe thead th {\n",
       "        text-align: right;\n",
       "    }\n",
       "</style>\n",
       "<table border=\"1\" class=\"dataframe\">\n",
       "  <thead>\n",
       "    <tr style=\"text-align: right;\">\n",
       "      <th></th>\n",
       "      <th>몸무게</th>\n",
       "      <th>상태</th>\n",
       "    </tr>\n",
       "    <tr>\n",
       "      <th>회차</th>\n",
       "      <th></th>\n",
       "      <th></th>\n",
       "    </tr>\n",
       "  </thead>\n",
       "  <tbody>\n",
       "    <tr>\n",
       "      <td>1</td>\n",
       "      <td>76.4</td>\n",
       "      <td>과체중</td>\n",
       "    </tr>\n",
       "    <tr>\n",
       "      <td>2</td>\n",
       "      <td>75.7</td>\n",
       "      <td>정상체중</td>\n",
       "    </tr>\n",
       "    <tr>\n",
       "      <td>3</td>\n",
       "      <td>76.0</td>\n",
       "      <td>정상체중</td>\n",
       "    </tr>\n",
       "    <tr>\n",
       "      <td>4</td>\n",
       "      <td>NaN</td>\n",
       "      <td>정상체중</td>\n",
       "    </tr>\n",
       "    <tr>\n",
       "      <td>5</td>\n",
       "      <td>76.2</td>\n",
       "      <td>과체중</td>\n",
       "    </tr>\n",
       "  </tbody>\n",
       "</table>\n",
       "</div>"
      ],
      "text/plain": [
       "     몸무게    상태\n",
       "회차            \n",
       "1   76.4   과체중\n",
       "2   75.7  정상체중\n",
       "3   76.0  정상체중\n",
       "4    NaN  정상체중\n",
       "5   76.2   과체중"
      ]
     },
     "execution_count": 99,
     "metadata": {},
     "output_type": "execute_result"
    }
   ],
   "source": [
    "data.loc[~(data['몸무게'] > 76), \"상태\"] = '정상체중'\n",
    "cols = ['몸무게', '상태']\n",
    "data[cols].head()"
   ]
  },
  {
   "cell_type": "code",
   "execution_count": 100,
   "metadata": {},
   "outputs": [
    {
     "data": {
      "text/html": [
       "<div>\n",
       "<style scoped>\n",
       "    .dataframe tbody tr th:only-of-type {\n",
       "        vertical-align: middle;\n",
       "    }\n",
       "\n",
       "    .dataframe tbody tr th {\n",
       "        vertical-align: top;\n",
       "    }\n",
       "\n",
       "    .dataframe thead th {\n",
       "        text-align: right;\n",
       "    }\n",
       "</style>\n",
       "<table border=\"1\" class=\"dataframe\">\n",
       "  <thead>\n",
       "    <tr style=\"text-align: right;\">\n",
       "      <th></th>\n",
       "      <th>몸무게</th>\n",
       "      <th>상태</th>\n",
       "    </tr>\n",
       "    <tr>\n",
       "      <th>회차</th>\n",
       "      <th></th>\n",
       "      <th></th>\n",
       "    </tr>\n",
       "  </thead>\n",
       "  <tbody>\n",
       "    <tr>\n",
       "      <td>1</td>\n",
       "      <td>76.4</td>\n",
       "      <td>과체중</td>\n",
       "    </tr>\n",
       "    <tr>\n",
       "      <td>2</td>\n",
       "      <td>75.7</td>\n",
       "      <td>정상체중</td>\n",
       "    </tr>\n",
       "    <tr>\n",
       "      <td>3</td>\n",
       "      <td>76.0</td>\n",
       "      <td>정상체중</td>\n",
       "    </tr>\n",
       "    <tr>\n",
       "      <td>4</td>\n",
       "      <td>NaN</td>\n",
       "      <td>N/A</td>\n",
       "    </tr>\n",
       "    <tr>\n",
       "      <td>5</td>\n",
       "      <td>76.2</td>\n",
       "      <td>과체중</td>\n",
       "    </tr>\n",
       "  </tbody>\n",
       "</table>\n",
       "</div>"
      ],
      "text/plain": [
       "     몸무게    상태\n",
       "회차            \n",
       "1   76.4   과체중\n",
       "2   75.7  정상체중\n",
       "3   76.0  정상체중\n",
       "4    NaN   N/A\n",
       "5   76.2   과체중"
      ]
     },
     "execution_count": 100,
     "metadata": {},
     "output_type": "execute_result"
    }
   ],
   "source": [
    "data.loc[data['몸무게'].isnull(), \"상태\"] = 'N/A'\n",
    "cols = ['몸무게', '상태']\n",
    "data[cols].head()"
   ]
  }
 ],
 "metadata": {
  "kernelspec": {
   "display_name": "Python 3",
   "language": "python",
   "name": "python3"
  },
  "language_info": {
   "codemirror_mode": {
    "name": "ipython",
    "version": 3
   },
   "file_extension": ".py",
   "mimetype": "text/x-python",
   "name": "python",
   "nbconvert_exporter": "python",
   "pygments_lexer": "ipython3",
   "version": "3.7.4"
  }
 },
 "nbformat": 4,
 "nbformat_minor": 2
}
